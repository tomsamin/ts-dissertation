{
  "cells": [
    {
      "cell_type": "code",
      "execution_count": null,
      "metadata": {
        "colab": {
          "base_uri": "https://localhost:8080/"
        },
        "id": "ZDsViuPbe-l_",
        "outputId": "110e8b46-af2c-4906-ebc5-ef79c0c1b521"
      },
      "outputs": [
        {
          "name": "stdout",
          "output_type": "stream",
          "text": [
            "Looking in indexes: https://pypi.org/simple, https://us-python.pkg.dev/colab-wheels/public/simple/\n",
            "Requirement already satisfied: networkx in /usr/local/lib/python3.7/dist-packages (2.6.3)\n",
            "Looking in indexes: https://pypi.org/simple, https://us-python.pkg.dev/colab-wheels/public/simple/\n",
            "Collecting scikit-plot\n",
            "  Downloading scikit_plot-0.3.7-py3-none-any.whl (33 kB)\n",
            "Requirement already satisfied: joblib>=0.10 in /usr/local/lib/python3.7/dist-packages (from scikit-plot) (1.2.0)\n",
            "Requirement already satisfied: matplotlib>=1.4.0 in /usr/local/lib/python3.7/dist-packages (from scikit-plot) (3.2.2)\n",
            "Requirement already satisfied: scipy>=0.9 in /usr/local/lib/python3.7/dist-packages (from scikit-plot) (1.7.3)\n",
            "Requirement already satisfied: scikit-learn>=0.18 in /usr/local/lib/python3.7/dist-packages (from scikit-plot) (1.0.2)\n",
            "Requirement already satisfied: pyparsing!=2.0.4,!=2.1.2,!=2.1.6,>=2.0.1 in /usr/local/lib/python3.7/dist-packages (from matplotlib>=1.4.0->scikit-plot) (3.0.9)\n",
            "Requirement already satisfied: cycler>=0.10 in /usr/local/lib/python3.7/dist-packages (from matplotlib>=1.4.0->scikit-plot) (0.11.0)\n",
            "Requirement already satisfied: python-dateutil>=2.1 in /usr/local/lib/python3.7/dist-packages (from matplotlib>=1.4.0->scikit-plot) (2.8.2)\n",
            "Requirement already satisfied: kiwisolver>=1.0.1 in /usr/local/lib/python3.7/dist-packages (from matplotlib>=1.4.0->scikit-plot) (1.4.4)\n",
            "Requirement already satisfied: numpy>=1.11 in /usr/local/lib/python3.7/dist-packages (from matplotlib>=1.4.0->scikit-plot) (1.21.6)\n",
            "Requirement already satisfied: typing-extensions in /usr/local/lib/python3.7/dist-packages (from kiwisolver>=1.0.1->matplotlib>=1.4.0->scikit-plot) (4.1.1)\n",
            "Requirement already satisfied: six>=1.5 in /usr/local/lib/python3.7/dist-packages (from python-dateutil>=2.1->matplotlib>=1.4.0->scikit-plot) (1.15.0)\n",
            "Requirement already satisfied: threadpoolctl>=2.0.0 in /usr/local/lib/python3.7/dist-packages (from scikit-learn>=0.18->scikit-plot) (3.1.0)\n",
            "Installing collected packages: scikit-plot\n",
            "Successfully installed scikit-plot-0.3.7\n"
          ]
        }
      ],
      "source": [
        "import numpy as np\n",
        "import pandas as pd\n",
        "\n",
        "import torch\n",
        "import torch.nn as nn\n",
        "import torch.nn.functional as F\n",
        "\n",
        "#!pip install stellargraph\n",
        "#import stellargraph as sg\n",
        "\n",
        "!pip install networkx\n",
        "import networkx as nx\n",
        "\n",
        "!pip install scikit-plot\n",
        "\n",
        "import sys\n",
        "sys.path.append('/content/drive/MyDrive')\n",
        "from inductiveGRL.graphconstruction import GraphConstruction\n",
        "from inductiveGRL.hinsage import HinSAGE_Representation_Learner, HinSAGE_Representation_Learner_Ind_TB\n",
        "import stellargraph as sg\n"
      ]
    },
    {
      "cell_type": "markdown",
      "metadata": {
        "id": "H6-benAIUMEj"
      },
      "source": [
        "# Read in data \n",
        "\n",
        "Read in the data and split it into training and test datasets."
      ]
    },
    {
      "cell_type": "code",
      "execution_count": null,
      "metadata": {
        "colab": {
          "base_uri": "https://localhost:8080/"
        },
        "id": "QIXtHG_efMLf",
        "outputId": "d92586cd-24b3-4ab5-f466-dae7813d8f8b"
      },
      "outputs": [
        {
          "name": "stdout",
          "output_type": "stream",
          "text": [
            "        step       customer age gender zipcodeOri       merchant zipMerchant  \\\n",
            "450433   141  'C1263461120'   5    'M'    '28007'  'M1823072687'     '28007'   \n",
            "450434   141  'C2091583256'   2    'F'    '28007'   'M348934600'     '28007'   \n",
            "450435   141  'C2091583256'   2    'F'    '28007'  'M1823072687'     '28007'   \n",
            "450436   141  'C1853277977'   4    'M'    '28007'  'M1823072687'     '28007'   \n",
            "450437   141   'C227356089'   2    'F'    '28007'  'M1823072687'     '28007'   \n",
            "...      ...            ...  ..    ...        ...            ...         ...   \n",
            "594638   179  'C1753498738'   3    'F'    '28007'  'M1823072687'     '28007'   \n",
            "594639   179   'C650108285'   4    'F'    '28007'  'M1823072687'     '28007'   \n",
            "594640   179   'C123623130'   2    'F'    '28007'   'M349281107'     '28007'   \n",
            "594641   179  'C1499363341'   5    'M'    '28007'  'M1823072687'     '28007'   \n",
            "594642   179   'C616528518'   4    'F'    '28007'  'M1823072687'     '28007'   \n",
            "\n",
            "                 category  amount  fraud  ...  category_es_travel  \\\n",
            "450433  es_transportation   18.12      0  ...                   0   \n",
            "450434  es_transportation   24.51      0  ...                   0   \n",
            "450435  es_transportation   40.43      0  ...                   0   \n",
            "450436  es_transportation    7.49      0  ...                   0   \n",
            "450437  es_transportation   61.43      0  ...                   0   \n",
            "...                   ...     ...    ...  ...                 ...   \n",
            "594638  es_transportation   20.53      0  ...                   0   \n",
            "594639  es_transportation   50.73      0  ...                   0   \n",
            "594640         es_fashion   22.44      0  ...                   0   \n",
            "594641  es_transportation   14.46      0  ...                   0   \n",
            "594642  es_transportation   26.93      0  ...                   0   \n",
            "\n",
            "       category_es_wellnessandbeauty age_0  age_1  age_2  age_3  age_4  age_5  \\\n",
            "450433                             0     0      0      0      0      0      1   \n",
            "450434                             0     0      0      1      0      0      0   \n",
            "450435                             0     0      0      1      0      0      0   \n",
            "450436                             0     0      0      0      0      1      0   \n",
            "450437                             0     0      0      1      0      0      0   \n",
            "...                              ...   ...    ...    ...    ...    ...    ...   \n",
            "594638                             0     0      0      0      1      0      0   \n",
            "594639                             0     0      0      0      0      1      0   \n",
            "594640                             0     0      0      1      0      0      0   \n",
            "594641                             0     0      0      0      0      0      1   \n",
            "594642                             0     0      0      0      0      1      0   \n",
            "\n",
            "        age_6  age_U  \n",
            "450433      0      0  \n",
            "450434      0      0  \n",
            "450435      0      0  \n",
            "450436      0      0  \n",
            "450437      0      0  \n",
            "...       ...    ...  \n",
            "594638      0      0  \n",
            "594639      0      0  \n",
            "594640      0      0  \n",
            "594641      0      0  \n",
            "594642      0      0  \n",
            "\n",
            "[144210 rows x 36 columns]\n"
          ]
        }
      ],
      "source": [
        "data_full = pd.read_csv('/content/drive/MyDrive/AI Dissertation /data/bs140513_032310.csv')\n",
        "data_full[\"index\"] = data_full.index\n",
        "# add a column to data for customer id and merchant id with prefix 1: C and 2: M\n",
        "data_full['merchant_id'] = data_full['merchant'].str.replace(\"M\", '2').str.replace(\"'\", \"\")\n",
        "data_full['customer_id'] = data_full['customer'].str.replace(\"C\", '1').str.replace(\"'\", \"\")\n",
        "data_full['category'] = data_full['category'].str.replace(\"'\", \"\")\n",
        "data_full['age'] = data_full['age'].str.replace(\"'\", \"\")\n",
        "\n",
        "category_oh = pd.get_dummies(data_full['category'], prefix='category')\n",
        "data_full = data_full.join(category_oh)\n",
        "\n",
        "age_oh = pd.get_dummies(data_full['age'], prefix='age')\n",
        "data_full = data_full.join(age_oh)\n",
        "\n",
        "def split_data(data, split_start, split_end):\n",
        "    return data.loc[(data['step'] >= split_start) & (data['step'] <= split_end)]\n",
        "\n",
        "data_train = split_data(data_full, 0, 140)\n",
        "data_test = split_data(data_full, 141, 180)\n",
        "\n",
        "print(data_test)\n"
      ]
    },
    {
      "cell_type": "markdown",
      "metadata": {
        "id": "oA2ZcrQAUX9y"
      },
      "source": [
        "## Nodes and their features\n",
        "\n",
        "Take the customer id as the customer nodes. Age and gender are customer node features.\n",
        "\n",
        "Take the merchant id as the merchant nodes. There are no merchant node features.\n",
        "\n",
        "Take the index of the pandas dataset as the transaction nodes. Transaction category and amount are transaction node features. "
      ]
    },
    {
      "cell_type": "code",
      "execution_count": null,
      "metadata": {
        "colab": {
          "base_uri": "https://localhost:8080/"
        },
        "id": "yT4D27_-hmwu",
        "outputId": "91f7f4e1-c0ba-4e09-8bb5-59af53805b7b"
      },
      "outputs": [
        {
          "name": "stdout",
          "output_type": "stream",
          "text": [
            "             step  age_0  age_1  age_2  age_3  age_4  age_5  age_6  age_U\n",
            "customer_id                                                              \n",
            "11093826151     0      0      0      0      0      1      0      0      0\n",
            "1352968107      0      0      0      1      0      0      0      0      0\n",
            "12054744914     0      0      0      0      0      1      0      0      0\n",
            "11760612790     0      0      0      0      1      0      0      0      0\n",
            "1757503768      0      0      0      0      0      0      1      0      0\n",
            "...           ...    ...    ...    ...    ...    ...    ...    ...    ...\n",
            "1650117238     79      0      0      0      1      0      0      0      0\n",
            "12095815783    85      0      0      1      0      0      0      0      0\n",
            "11014783484   101      0      1      0      0      0      0      0      0\n",
            "1849065220    101      0      0      0      0      1      0      0      0\n",
            "11809646275   135      0      0      0      1      0      0      0      0\n",
            "\n",
            "[4112 rows x 9 columns]\n"
          ]
        }
      ],
      "source": [
        "#node_customers = pd.DataFrame([1]*len(data_train.customer_id.unique())).set_index(data_train.customer_id.unique())\n",
        "node_customers = data_train[[\"step\", \"customer_id\", \"age_0\", \"age_1\", \"age_2\", \"age_3\", \"age_4\", \"age_5\", \"age_6\", \"age_U\"]].drop_duplicates(subset=[\"customer_id\"]).set_index(\"customer_id\")\n",
        "node_merchants = pd.DataFrame([1]*len(data_train.merchant_id.unique())).set_index(data_train.merchant_id.unique())\n",
        "\n",
        "# transaction node data\n",
        "node_txns = data_train[[\"step\", \"amount\", \"category_es_home\", \"category_es_hotelservices\", \"category_es_hyper\", \"category_es_leisure\", \"category_es_otherservices\", \"category_es_sportsandtoys\", \"category_es_tech\", \"category_es_transportation\", \"category_es_travel\", \"category_es_wellnessandbeauty\", \"index\"]]\n",
        "print(node_customers)"
      ]
    },
    {
      "cell_type": "code",
      "execution_count": null,
      "metadata": {
        "id": "VumxDNBssNiB"
      },
      "outputs": [],
      "source": []
    },
    {
      "cell_type": "markdown",
      "metadata": {
        "id": "8Bfy7khfV2mn"
      },
      "source": [
        "## Edges \n",
        "\n",
        "Take the customer id and index to form edges.\n",
        "\n",
        "Take the index and merchant to form edges."
      ]
    },
    {
      "cell_type": "code",
      "execution_count": null,
      "metadata": {
        "id": "NHDQuA8FhzbI"
      },
      "outputs": [],
      "source": [
        "### edges\n",
        "# customer to transaction edges\n",
        "edge_customer = data_train[[\"customer_id\", \"index\"]]\n",
        "\n",
        "# transaction to merchant edges\n",
        "edge_merchant = data_train[[\"index\", \"merchant_id\"]]\n"
      ]
    },
    {
      "cell_type": "code",
      "execution_count": null,
      "metadata": {
        "colab": {
          "base_uri": "https://localhost:8080/"
        },
        "id": "YPkuWQx9V1mR",
        "outputId": "74b6559d-8aa1-4bdc-977d-9a47543b25a8"
      },
      "outputs": [
        {
          "name": "stdout",
          "output_type": "stream",
          "text": [
            "StellarGraph: Undirected multigraph\n",
            " Nodes: 454595, Edges: 900866\n",
            "\n",
            " Node types:\n",
            "  transaction: [450433]\n",
            "    Features: float32 vector, length 13\n",
            "    Edge types: transaction-default->customer, transaction-default->merchant\n",
            "  customer: [4112]\n",
            "    Features: float32 vector, length 9\n",
            "    Edge types: customer-default->transaction\n",
            "  merchant: [50]\n",
            "    Features: float32 vector, length 1\n",
            "    Edge types: merchant-default->transaction\n",
            "\n",
            " Edge types:\n",
            "    merchant-default->transaction: [450433]\n",
            "        Weights: all 1 (default)\n",
            "        Features: none\n",
            "    customer-default->transaction: [450433]\n",
            "        Weights: all 1 (default)\n",
            "        Features: none\n"
          ]
        }
      ],
      "source": [
        "import sys\n",
        "sys.path.append('/content/drive/MyDrive')\n",
        "\n",
        "from inductiveGRL.graphconstruction import GraphConstruction\n",
        "\n",
        "nodes = {\"customer\":data_train.customer_id, \"merchant\":data_train.merchant_id, \"transaction\":data_train.index}\n",
        "edges = [zip(edge_customer.customer_id, edge_customer.index),zip(edge_merchant.index, edge_merchant.merchant_id)]\n",
        "features = {\"transaction\": node_txns, 'customer': node_customers, 'merchant': node_merchants}\n",
        "#print(node_customers)\n",
        "#print(node_merchants)\n",
        "\n",
        "graph = GraphConstruction(nodes, edges, features)\n",
        "S = graph.get_stellargraph()\n",
        "print(S.info())\n"
      ]
    },
    {
      "cell_type": "markdown",
      "metadata": {
        "id": "nyRZOXvogXUD"
      },
      "source": [
        "# Train HinSage"
      ]
    },
    {
      "cell_type": "code",
      "execution_count": null,
      "metadata": {
        "colab": {
          "background_save": true,
          "base_uri": "https://localhost:8080/"
        },
        "id": "xZj4ScbBgXCr",
        "outputId": "d06400a8-5f8d-4ee8-b6ce-66c3acfcf551"
      },
      "outputs": [
        {
          "name": "stderr",
          "output_type": "stream",
          "text": [
            "/usr/local/lib/python3.7/dist-packages/keras/optimizers/optimizer_v2/adam.py:110: UserWarning: The `lr` argument is deprecated, use `learning_rate` instead.\n",
            "  super(Adam, self).__init__(name, **kwargs)\n"
          ]
        },
        {
          "name": "stdout",
          "output_type": "stream",
          "text": [
            "Epoch 1/5\n",
            "72070/72070 [==============================] - 367s 5ms/step - loss: 0.0504 - val_loss: 0.0224\n",
            "Epoch 2/5\n",
            "72070/72070 [==============================] - 371s 5ms/step - loss: 0.0264 - val_loss: 0.0199\n",
            "Epoch 3/5\n",
            "72070/72070 [==============================] - 369s 5ms/step - loss: 0.0237 - val_loss: 0.0217\n",
            "Epoch 4/5\n",
            "72070/72070 [==============================] - 367s 5ms/step - loss: 0.0224 - val_loss: 0.0279\n",
            "Epoch 5/5\n",
            "72070/72070 [==============================] - 368s 5ms/step - loss: 0.0216 - val_loss: 0.0171\n",
            "90087/90087 [==============================] - 287s 3ms/step\n"
          ]
        }
      ],
      "source": [
        "from inductiveGRL.hinsage import HinSAGE_Representation_Learner\n",
        "\n",
        "#GraphSAGE parameters\n",
        "#num_samples = [2,32]\n",
        "num_samples = [2, 5]\n",
        "embedding_node_type = \"transaction\"\n",
        "\n",
        "hinsage = HinSAGE_Representation_Learner(embedding_size=64, num_samples=num_samples, embedding_for_node_type=embedding_node_type)\n",
        "trained_hinsage_model, train_emb = hinsage.train_hinsage(S, list(data_train.index), data_train['fraud'], batch_size=5, epochs=5)"
      ]
    },
    {
      "cell_type": "markdown",
      "metadata": {
        "id": "mh1SE7C1MlLJ"
      },
      "source": [
        "# Inductive Step\n",
        "\n",
        "We want to keep the original indices after concatenating the train and inductive data, because they represent the transaction node ids. We need to concatenate these dataframes in order to easily construct the new graph."
      ]
    },
    {
      "cell_type": "code",
      "execution_count": null,
      "metadata": {
        "colab": {
          "background_save": true
        },
        "id": "YvZgXvJtMoQ_",
        "outputId": "9c99eccc-cab2-4c93-91b2-6a6b9e093a8d"
      },
      "outputs": [
        {
          "name": "stdout",
          "output_type": "stream",
          "text": [
            "        step       customer age gender zipcodeOri       merchant zipMerchant  \\\n",
            "0          0  'C1093826151'   4    'M'    '28007'   'M348934600'     '28007'   \n",
            "1          0   'C352968107'   2    'M'    '28007'   'M348934600'     '28007'   \n",
            "2          0  'C2054744914'   4    'F'    '28007'  'M1823072687'     '28007'   \n",
            "3          0  'C1760612790'   3    'M'    '28007'   'M348934600'     '28007'   \n",
            "4          0   'C757503768'   5    'M'    '28007'   'M348934600'     '28007'   \n",
            "...      ...            ...  ..    ...        ...            ...         ...   \n",
            "594638   179  'C1753498738'   3    'F'    '28007'  'M1823072687'     '28007'   \n",
            "594639   179   'C650108285'   4    'F'    '28007'  'M1823072687'     '28007'   \n",
            "594640   179   'C123623130'   2    'F'    '28007'   'M349281107'     '28007'   \n",
            "594641   179  'C1499363341'   5    'M'    '28007'  'M1823072687'     '28007'   \n",
            "594642   179   'C616528518'   4    'F'    '28007'  'M1823072687'     '28007'   \n",
            "\n",
            "                 category  amount  fraud  ...  category_es_travel  \\\n",
            "0       es_transportation    4.55      0  ...                   0   \n",
            "1       es_transportation   39.68      0  ...                   0   \n",
            "2       es_transportation   26.89      0  ...                   0   \n",
            "3       es_transportation   17.25      0  ...                   0   \n",
            "4       es_transportation   35.72      0  ...                   0   \n",
            "...                   ...     ...    ...  ...                 ...   \n",
            "594638  es_transportation   20.53      0  ...                   0   \n",
            "594639  es_transportation   50.73      0  ...                   0   \n",
            "594640         es_fashion   22.44      0  ...                   0   \n",
            "594641  es_transportation   14.46      0  ...                   0   \n",
            "594642  es_transportation   26.93      0  ...                   0   \n",
            "\n",
            "       category_es_wellnessandbeauty age_0  age_1  age_2  age_3  age_4  age_5  \\\n",
            "0                                  0     0      0      0      0      1      0   \n",
            "1                                  0     0      0      1      0      0      0   \n",
            "2                                  0     0      0      0      0      1      0   \n",
            "3                                  0     0      0      0      1      0      0   \n",
            "4                                  0     0      0      0      0      0      1   \n",
            "...                              ...   ...    ...    ...    ...    ...    ...   \n",
            "594638                             0     0      0      0      1      0      0   \n",
            "594639                             0     0      0      0      0      1      0   \n",
            "594640                             0     0      0      1      0      0      0   \n",
            "594641                             0     0      0      0      0      0      1   \n",
            "594642                             0     0      0      0      0      1      0   \n",
            "\n",
            "        age_6  age_U  \n",
            "0           0      0  \n",
            "1           0      0  \n",
            "2           0      0  \n",
            "3           0      0  \n",
            "4           0      0  \n",
            "...       ...    ...  \n",
            "594638      0      0  \n",
            "594639      0      0  \n",
            "594640      0      0  \n",
            "594641      0      0  \n",
            "594642      0      0  \n",
            "\n",
            "[594643 rows x 36 columns]\n"
          ]
        }
      ],
      "source": [
        "pd.options.mode.chained_assignment = None\n",
        "\n",
        "#data_train['index'] = data_train.index\n",
        "#data_test['index'] = data_test.index\n",
        "inductive_graph_data = pd.concat((data_train, data_test))\n",
        "#inductive_graph_data = inductive_graph_data.set_index(inductive_graph_data['index']).drop(\"index\",axis = 1)\n",
        "\n",
        "print(inductive_graph_data)"
      ]
    },
    {
      "cell_type": "markdown",
      "metadata": {
        "id": "1IbKXakmRmC_"
      },
      "source": [
        "For the inductive step, we need to add the new, unseen transactions to the graph. Because the current StellarGraph implementation does not support adding nodes and edges to an existing stellargraph object, we create a new graph that contains all the nodes from the train graph in addition to the new nodes.\n"
      ]
    },
    {
      "cell_type": "code",
      "execution_count": null,
      "metadata": {
        "colab": {
          "background_save": true
        },
        "id": "B1DdzNWnTal7",
        "outputId": "cf8e6618-0545-4ed7-d4cf-1d5d373a68b8"
      },
      "outputs": [
        {
          "name": "stdout",
          "output_type": "stream",
          "text": [
            "StellarGraph: Undirected multigraph\n",
            " Nodes: 598805, Edges: 1189286\n",
            "\n",
            " Node types:\n",
            "  transaction: [594643]\n",
            "    Features: float32 vector, length 13\n",
            "    Edge types: transaction-default->customer, transaction-default->merchant\n",
            "  customer: [4112]\n",
            "    Features: float32 vector, length 9\n",
            "    Edge types: customer-default->transaction\n",
            "  merchant: [50]\n",
            "    Features: float32 vector, length 1\n",
            "    Edge types: merchant-default->transaction\n",
            "\n",
            " Edge types:\n",
            "    merchant-default->transaction: [594643]\n",
            "        Weights: all 1 (default)\n",
            "        Features: none\n",
            "    customer-default->transaction: [594643]\n",
            "        Weights: all 1 (default)\n",
            "        Features: none\n"
          ]
        }
      ],
      "source": [
        "def data_to_graph(dataset):\n",
        "  ### nodes\n",
        "  #node_customers = pd.DataFrame([1]*len(dataset.customer_id.unique())).set_index(dataset.customer_id.unique())\n",
        "  node_customers = dataset[[\"step\", \"customer_id\", \"age_0\", \"age_1\", \"age_2\", \"age_3\", \"age_4\", \"age_5\", \"age_6\", \"age_U\"]].drop_duplicates(subset=[\"customer_id\"]).set_index(\"customer_id\")\n",
        "  #print(node_customers.loc[\"1369566106\"])\n",
        "  node_merchants = pd.DataFrame([1]*len(dataset.merchant_id.unique())).set_index(dataset.merchant_id.unique())\n",
        "\n",
        "  # transaction node data\n",
        "  node_txns = dataset[[\"step\", \"amount\", \"category_es_home\", \"category_es_hotelservices\", \"category_es_hyper\", \"category_es_leisure\", \n",
        "                       \"category_es_otherservices\", \"category_es_sportsandtoys\", \"category_es_tech\", \"category_es_transportation\", \n",
        "                       \"category_es_travel\", \"category_es_wellnessandbeauty\", \"index\"]]\n",
        "\n",
        "  ### edges\n",
        "  # customer to transaction edges\n",
        "  edge_customer = dataset[[\"customer_id\", \"index\"]]\n",
        "\n",
        "  # transaction to merchant edges\n",
        "  edge_merchant = dataset[[\"index\", \"merchant_id\"]]\n",
        "\n",
        "  nodes = {\"customer\":dataset.customer_id, \"merchant\":dataset.merchant_id, \"transaction\":dataset.index}\n",
        "  edges = [zip(edge_customer.customer_id, edge_customer.index),zip(edge_merchant.index, edge_merchant.merchant_id)]\n",
        "  features = {\"transaction\": node_txns, 'customer': node_customers, 'merchant': node_merchants}\n",
        "\n",
        "  graph = GraphConstruction(nodes, edges, features)\n",
        "  S = graph.get_stellargraph()\n",
        "  return S\n",
        "\n",
        "#print(inductive_graph_data)\n",
        "S_ind = data_to_graph(inductive_graph_data)\n",
        "print(S_ind.info())"
      ]
    },
    {
      "cell_type": "code",
      "execution_count": null,
      "metadata": {
        "colab": {
          "background_save": true
        },
        "id": "3KzBWqDeHpsR",
        "outputId": "0c293b53-c9aa-4304-8c49-4ae048a176eb"
      },
      "outputs": [
        {
          "name": "stdout",
          "output_type": "stream",
          "text": [
            "28842/28842 [==============================] - 90s 3ms/step\n"
          ]
        }
      ],
      "source": [
        "inductive_emb = hinsage.inductive_step_hinsage(S_ind, trained_hinsage_model, data_test.index, batch_size=5)"
      ]
    },
    {
      "cell_type": "markdown",
      "metadata": {
        "id": "qU4XiF21HpsU"
      },
      "source": [
        "### 4. Classification: predictions based on inductive embeddings"
      ]
    },
    {
      "cell_type": "markdown",
      "metadata": {
        "id": "YD6cZUBJHpsU"
      },
      "source": [
        "Select your preferred classification model"
      ]
    },
    {
      "cell_type": "code",
      "execution_count": null,
      "metadata": {
        "colab": {
          "background_save": true
        },
        "id": "yR3Y0utZHpsV"
      },
      "outputs": [],
      "source": [
        "from xgboost import XGBClassifier\n",
        "classifier = XGBClassifier(n_estimators=100)"
      ]
    },
    {
      "cell_type": "markdown",
      "metadata": {
        "id": "8VRm3HOhHpsY"
      },
      "source": [
        "If requested, the original transaction features are added to the generated embeddings. If these features are added, a baseline consisting of only these features (without embeddings) is included to analyze the net impact of embeddings on the predictive performance."
      ]
    },
    {
      "cell_type": "code",
      "execution_count": null,
      "metadata": {
        "colab": {
          "background_save": true
        },
        "id": "PUS6wpHxHpsY"
      },
      "outputs": [],
      "source": [
        "train_labels = data_train['fraud']\n",
        "\n",
        "add_additional_data = True\n",
        "\n",
        "if add_additional_data is True:\n",
        "    train_emb_m = pd.merge(train_emb, data_train[[\"amount\", \"age_0\", \"age_1\", \"age_2\", \"age_3\", \"age_4\", \"age_5\", \"age_6\", \"age_U\", \"category_es_home\", \"category_es_hotelservices\", \"category_es_hyper\", \"category_es_leisure\", \"category_es_otherservices\", \"category_es_sportsandtoys\", \"category_es_tech\", \"category_es_transportation\", \"category_es_travel\", \"category_es_wellnessandbeauty\"]], left_index=True, right_index=True)\n",
        "    inductive_emb_m = pd.merge(inductive_emb, data_test[[\"amount\", \"age_0\", \"age_1\", \"age_2\", \"age_3\", \"age_4\", \"age_5\", \"age_6\", \"age_U\", \"category_es_home\", \"category_es_hotelservices\", \"category_es_hyper\", \"category_es_leisure\", \"category_es_otherservices\", \"category_es_sportsandtoys\", \"category_es_tech\", \"category_es_transportation\", \"category_es_travel\", \"category_es_wellnessandbeauty\"]], left_index=True, right_index=True)\n",
        "\n",
        "    #baseline_train = data_train.drop('fraud', axis=1)\n",
        "    #baseline_inductive = data_test.drop('fraud', axis=1)\n",
        "    baseline_train = data_train[[\"amount\", \"age_0\", \"age_1\", \"age_2\", \"age_3\", \"age_4\", \"age_5\", \"age_6\", \"age_U\", \"category_es_home\", \"category_es_hotelservices\", \"category_es_hyper\", \"category_es_leisure\", \"category_es_otherservices\", \"category_es_sportsandtoys\", \"category_es_tech\", \"category_es_transportation\", \"category_es_travel\", \"category_es_wellnessandbeauty\"]]\n",
        "    baseline_inductive = data_test[[\"amount\", \"age_0\", \"age_1\", \"age_2\", \"age_3\", \"age_4\", \"age_5\", \"age_6\", \"age_U\", \"category_es_home\", \"category_es_hotelservices\", \"category_es_hyper\", \"category_es_leisure\", \"category_es_otherservices\", \"category_es_sportsandtoys\", \"category_es_tech\", \"category_es_transportation\", \"category_es_travel\", \"category_es_wellnessandbeauty\"]]\n",
        "\n",
        "    classifier.fit(baseline_train, train_labels)\n",
        "    baseline_predictions = classifier.predict_proba(baseline_inductive)\n",
        "\n",
        "    classifier.fit(train_emb_m, train_labels)\n",
        "    predictions = classifier.predict_proba(inductive_emb_m)\n",
        "    \n",
        "else:\n",
        "  classifier.fit(train_emb, train_labels)\n",
        "  predictions = classifier.predict_proba(inductive_emb)\n"
      ]
    },
    {
      "cell_type": "markdown",
      "metadata": {
        "id": "cB19y-X4Hpsb"
      },
      "source": [
        "### 5. Evaluation"
      ]
    },
    {
      "cell_type": "markdown",
      "metadata": {
        "id": "5U_rOHXAHpsb"
      },
      "source": [
        "Given the highly imbalanced nature of our dataset, we evaluate the results based on precision-recall curves. "
      ]
    },
    {
      "cell_type": "code",
      "execution_count": null,
      "metadata": {
        "colab": {
          "background_save": true
        },
        "id": "Btgrm2pvHpsc",
        "scrolled": false,
        "outputId": "68063245-c4c8-4402-c3aa-6d351681c382"
      },
      "outputs": [
        {
          "name": "stdout",
          "output_type": "stream",
          "text": [
            "Average precision-recall score XGBoost: 0.8785713942\n",
            "Average precision-recall score XGBoost: 0.7933957870\n"
          ]
        },
        {
          "data": {
            "image/png": "[encoded data removed]",
            "text/plain": [
              "<Figure size 432x288 with 1 Axes>"
            ]
          },
          "metadata": {},
          "output_type": "display_data"
        }
      ],
      "source": [
        "from inductiveGRL.evaluation import Evaluation\n",
        "inductive_labels = data_full.loc[inductive_emb.index]['fraud']\n",
        "\n",
        "graphsage_evaluation = Evaluation(predictions, inductive_labels, \"GraphSAGE+features\") \n",
        "graphsage_evaluation.pr_curve()\n",
        "\n",
        "if add_additional_data is True:\n",
        "    baseline_evaluation = Evaluation(baseline_predictions, inductive_labels, \"Baseline\")\n",
        "    baseline_evaluation.pr_curve()"
      ]
    },
    {
      "cell_type": "markdown",
      "metadata": {
        "id": "qbNJ7HpJvHZ6"
      },
      "source": [
        "## Analysis of the overlap between graph and non-graph"
      ]
    },
    {
      "cell_type": "markdown",
      "metadata": {
        "id": "kWed9kviK7un"
      },
      "source": [
        "## Baseline Confusion Matrix"
      ]
    },
    {
      "cell_type": "code",
      "execution_count": null,
      "metadata": {
        "colab": {
          "background_save": true
        },
        "id": "HE5Pkg2FJY5Q",
        "outputId": "e5b5dd68-8ce6-4c20-a293-63ec38ea15f0"
      },
      "outputs": [
        {
          "name": "stdout",
          "output_type": "stream",
          "text": [
            "Precision: 0.928923988153998\n",
            "Recall: 0.6032051282051282\n"
          ]
        },
        {
          "data": {
            "image/png": "[encoded data removed]",
            "text/plain": [
              "<Figure size 432x288 with 2 Axes>"
            ]
          },
          "metadata": {},
          "output_type": "display_data"
        }
      ],
      "source": [
        "from sklearn.metrics import ConfusionMatrixDisplay\n",
        "from sklearn.metrics import precision_score\n",
        "from sklearn.metrics import recall_score\n",
        "\n",
        "ConfusionMatrixDisplay.from_predictions(inductive_labels, np.argmax(baseline_predictions, axis=1))\n",
        "print(\"Precision:\", precision_score(inductive_labels, np.argmax(baseline_predictions, axis=1)))\n",
        "print(\"Recall:\", recall_score(inductive_labels, np.argmax(baseline_predictions, axis=1)))"
      ]
    },
    {
      "cell_type": "markdown",
      "metadata": {
        "id": "kLtK0mNTK_Dl"
      },
      "source": [
        "## GraphSAGE+Features Confusion Matrix"
      ]
    },
    {
      "cell_type": "code",
      "execution_count": null,
      "metadata": {
        "colab": {
          "background_save": true
        },
        "id": "IDDU3Qm-LEpz",
        "outputId": "d443da75-f3bc-4456-f74f-7dca75d7009f"
      },
      "outputs": [
        {
          "name": "stdout",
          "output_type": "stream",
          "text": [
            "Precision: 0.9478723404255319\n",
            "Recall: 0.5711538461538461\n"
          ]
        },
        {
          "data": {
            "image/png": "[encoded data removed]",
            "text/plain": [
              "<Figure size 432x288 with 2 Axes>"
            ]
          },
          "metadata": {},
          "output_type": "display_data"
        }
      ],
      "source": [
        "ConfusionMatrixDisplay.from_predictions(inductive_labels, np.argmax(predictions, axis=1))\n",
        "print(\"Precision:\", precision_score(inductive_labels, np.argmax(predictions, axis=1)))\n",
        "print(\"Recall:\", recall_score(inductive_labels, np.argmax(predictions, axis=1)))"
      ]
    },
    {
      "cell_type": "markdown",
      "metadata": {
        "id": "_YKOgzRiLreo"
      },
      "source": [
        "## True Positive Overlap Analysis \n"
      ]
    },
    {
      "cell_type": "code",
      "execution_count": null,
      "metadata": {
        "colab": {
          "background_save": true
        },
        "id": "bV0JcBpnLu1s",
        "outputId": "d9e0c588-0b06-49e0-c145-c93943e967be"
      },
      "outputs": [
        {
          "name": "stdout",
          "output_type": "stream",
          "text": [
            "Number of overlapping transactions: 803\n",
            "Number of baseline only transactions: 138\n",
            "Number of GraphSAGE+features only transactions: 88\n",
            "\n",
            "Total number of TP transactions identified: 1029\n",
            "Percentage of overlapping transactions: 78.03692905733722\n",
            "Percentage of baseline only transactions: 13.411078717201166\n",
            "Percentage of GraphSAGE+Features only transactions: 8.551992225461614\n",
            "\n",
            "Value of overlapping transactions: 681019.3599999995\n",
            "Value of baseline only transactions: 45896.91999999999\n",
            "Value of GraphSAGE+features transactions: 17844.68\n",
            "\n",
            "% Value of overlapping transactions: 91.44133441151372\n",
            "% Value of baseline only transactions: 6.162637740839694\n",
            "% Value of GraphSAGE+features transactions: 2.39602784764658\n",
            "\n",
            "Average Value of overlapping transactions: 848.0938480697379\n",
            "Average Value of baseline only transactions: 332.58637681159416\n",
            "Average Value of GraphSAGE+features transactions: 202.78045454545455\n"
          ]
        }
      ],
      "source": [
        "def tp_overlap_analysis(labels, baseline_predictions, graph_predictions, txn_data):\n",
        "  baseline_tp = []\n",
        "  graph_tp = []\n",
        "  # get a list of baseline true positives and of graph true positives\n",
        "  i=0\n",
        "  for index, value in labels.items():\n",
        "    # baseline true positives\n",
        "    if value == baseline_predictions[i] and value == 1:\n",
        "      baseline_tp.append(index)\n",
        "    # graph true positives\n",
        "    if value == graph_predictions[i] and value == 1:\n",
        "      graph_tp.append(index)\n",
        "    i = i+1 \n",
        "  \n",
        "  # compare id's from besline to graph true positives\n",
        "  both_count = 0\n",
        "  both_value = 0\n",
        "  baseline_only_count = 0\n",
        "  baseline_only_value = 0\n",
        "  baseline_only_indexes = []\n",
        "  for baseline_index in baseline_tp:\n",
        "    if baseline_index in graph_tp:\n",
        "      both_count += 1\n",
        "      both_value += txn_data.loc[baseline_index, \"amount\"]\n",
        "    else:\n",
        "      baseline_only_count += 1\n",
        "      baseline_only_value += txn_data.loc[baseline_index, \"amount\"]\n",
        "      baseline_only_indexes.append(baseline_index)\n",
        "  graph_only_count = 0\n",
        "  graph_only_value = 0\n",
        "  graph_only_indexes = []\n",
        "  graph_both_count = 0\n",
        "  for graph_index in graph_tp:\n",
        "    if graph_index in baseline_tp:\n",
        "      graph_both_count += 1\n",
        "    else:\n",
        "      graph_only_count += 1\n",
        "      graph_only_value += txn_data.loc[graph_index, \"amount\"]\n",
        "      graph_only_indexes.append(graph_index)\n",
        "  return both_count, both_value, graph_both_count, graph_only_value, baseline_only_count, baseline_only_value, graph_only_count, baseline_only_indexes, graph_only_indexes\n",
        "\n",
        "both_count, both_value, graph_both_count, graph_only_value, baseline_only_count, baseline_only_value, graph_only_count, baseline_only_indexes, graph_only_indexes = tp_overlap_analysis(inductive_labels, np.argmax(baseline_predictions, axis=1), np.argmax(predictions, axis=1), inductive_graph_data)\n",
        "\n",
        "print(\"Number of overlapping transactions:\", both_count)\n",
        "print(\"Number of baseline only transactions:\", baseline_only_count)\n",
        "print(\"Number of GraphSAGE+features only transactions:\", graph_only_count)\n",
        "print()\n",
        "total_TPs = both_count+baseline_only_count+graph_only_count\n",
        "print(\"Total number of TP transactions identified:\", total_TPs)\n",
        "print(\"Percentage of overlapping transactions:\", 100*both_count/total_TPs)\n",
        "print(\"Percentage of baseline only transactions:\", 100*baseline_only_count/total_TPs)\n",
        "print(\"Percentage of GraphSAGE+Features only transactions:\", 100*graph_only_count/total_TPs)\n",
        "print()\n",
        "print(\"Value of overlapping transactions:\", both_value)\n",
        "print(\"Value of baseline only transactions:\", baseline_only_value)\n",
        "print(\"Value of GraphSAGE+features transactions:\", graph_only_value)\n",
        "print()\n",
        "total_value = both_value+baseline_only_value+graph_only_value\n",
        "print(\"% Value of overlapping transactions:\", 100*both_value/total_value)\n",
        "print(\"% Value of baseline only transactions:\", 100*baseline_only_value/total_value)\n",
        "print(\"% Value of GraphSAGE+features transactions:\", 100*graph_only_value/total_value)\n",
        "print()\n",
        "print(\"Average Value of overlapping transactions:\", both_value/both_count)\n",
        "print(\"Average Value of baseline only transactions:\", baseline_only_value/baseline_only_count)\n",
        "print(\"Average Value of GraphSAGE+features transactions:\", graph_only_value/graph_only_count)"
      ]
    },
    {
      "cell_type": "markdown",
      "metadata": {
        "id": "xdOze4AozwIw"
      },
      "source": [
        "# Time analysis\n"
      ]
    },
    {
      "cell_type": "code",
      "execution_count": null,
      "metadata": {
        "colab": {
          "background_save": true
        },
        "id": "IaljHk_DzyZt",
        "outputId": "913bb804-004a-423a-a40b-cff006201a91"
      },
      "outputs": [
        {
          "name": "stdout",
          "output_type": "stream",
          "text": [
            "Baseline count 29 : 0\n",
            "GraphSAGE count 29 : 0\n",
            "Baseline count 30 : 0\n",
            "GraphSAGE count 30 : 0\n",
            "Baseline count 31 : 0\n",
            "GraphSAGE count 31 : 0\n",
            "Baseline count 32 : 0\n",
            "GraphSAGE count 32 : 0\n",
            "Baseline count 33 : 0\n",
            "GraphSAGE count 33 : 0\n",
            "Baseline count 34 : 0\n",
            "GraphSAGE count 34 : 0\n",
            "Baseline count 35 : 0\n",
            "GraphSAGE count 35 : 0\n",
            "Baseline count 36 : 0\n",
            "GraphSAGE count 36 : 0\n"
          ]
        }
      ],
      "source": [
        "graph_predictions = np.argmax(predictions, axis=1)\n",
        "base_preds = np.argmax(baseline_predictions, axis=1)\n",
        "\n",
        "\n",
        "# get a list of baseline true positives and of graph true positives\n",
        "baseline_tp = []\n",
        "baseline_time = []\n",
        "graph_tp = []\n",
        "graph_time = []\n",
        "i=0\n",
        "for index, value in inductive_labels.items():\n",
        "  # baseline true positives\n",
        "  if (value == base_preds[i]) and (value == 1):\n",
        "    baseline_tp.append(index)\n",
        "    baseline_time.append(inductive_graph_data.loc[index, \"step\"])\n",
        "  # graph true positives\n",
        "  if value == graph_predictions[i] and value == 1:\n",
        "    graph_tp.append(index)\n",
        "    graph_time.append(inductive_graph_data.loc[index, \"step\"])\n",
        "  i = i+1 \n",
        "\n",
        "\n",
        "for i in range(29,37):\n",
        "  print(\"Baseline count\", i, \":\", baseline_time.count(i))\n",
        "  print(\"GraphSAGE count\", i, \":\", graph_time.count(i))"
      ]
    },
    {
      "cell_type": "markdown",
      "metadata": {
        "id": "C9i4RgjP4zy8"
      },
      "source": [
        "# Changing the decision boundary\n"
      ]
    },
    {
      "cell_type": "code",
      "execution_count": null,
      "metadata": {
        "colab": {
          "background_save": true
        },
        "id": "RCF91k0s42WL",
        "outputId": "349a61e3-58cd-4cd8-e462-a35dd4d32340"
      },
      "outputs": [
        {
          "name": "stdout",
          "output_type": "stream",
          "text": [
            "[3.1525084e-05 3.1525084e-05 3.1525084e-05 ... 9.7824810e-03 3.1525084e-05\n",
            " 3.1525084e-05]\n"
          ]
        }
      ],
      "source": [
        "print(baseline_predictions[:,1])\n",
        "#np.argmax(baseline_predictions, axis=1)\n",
        "\n",
        "def classify_probabilities(prediction_probs, decision_boundary):\n",
        "  pred_c = []\n",
        "  for p in prediction_probs:\n",
        "    if p > decision_boundary:\n",
        "      pred_c.append(1)\n",
        "    else:\n",
        "      pred_c.append(0)\n",
        "  return pred_c\n",
        "\n"
      ]
    },
    {
      "cell_type": "markdown",
      "metadata": {
        "id": "e1SgOWZ4Bvek"
      },
      "source": [
        "## Baseline Confusion matrix"
      ]
    },
    {
      "cell_type": "code",
      "execution_count": null,
      "metadata": {
        "colab": {
          "background_save": true
        },
        "id": "zPCNRu5dBz4J",
        "outputId": "e5008231-9d81-4d10-e40d-f1d73db79a17"
      },
      "outputs": [
        {
          "name": "stdout",
          "output_type": "stream",
          "text": [
            "Precision: 0.8625429553264605\n",
            "Recall: 0.6435897435897436\n"
          ]
        },
        {
          "data": {
            "image/png": "[encoded data removed]",
            "text/plain": [
              "<Figure size 432x288 with 2 Axes>"
            ]
          },
          "metadata": {},
          "output_type": "display_data"
        }
      ],
      "source": [
        "baseline_pred_c = classify_probabilities(baseline_predictions[:, 1], 0.35)\n",
        "ConfusionMatrixDisplay.from_predictions(inductive_labels, baseline_pred_c)\n",
        "print(\"Precision:\", precision_score(inductive_labels, baseline_pred_c))\n",
        "print(\"Recall:\", recall_score(inductive_labels, baseline_pred_c))"
      ]
    },
    {
      "cell_type": "markdown",
      "metadata": {
        "id": "z1iVCJPdB5ap"
      },
      "source": [
        "# GraphSAGE Confusion Matrix"
      ]
    },
    {
      "cell_type": "code",
      "execution_count": null,
      "metadata": {
        "colab": {
          "background_save": true
        },
        "id": "WqRioqIwB8YG",
        "outputId": "04d14121-8494-4a51-a1ed-6de0fa885c2b"
      },
      "outputs": [
        {
          "name": "stdout",
          "output_type": "stream",
          "text": [
            "Precision: 0.8347517730496454\n",
            "Recall: 0.7544871794871795\n"
          ]
        },
        {
          "data": {
            "image/png": "[encoded data removed]",
            "text/plain": [
              "<Figure size 432x288 with 2 Axes>"
            ]
          },
          "metadata": {},
          "output_type": "display_data"
        }
      ],
      "source": [
        "pred_c = classify_probabilities(predictions[:, 1], 0.22)\n",
        "ConfusionMatrixDisplay.from_predictions(inductive_labels, pred_c)\n",
        "print(\"Precision:\", precision_score(inductive_labels, pred_c))\n",
        "print(\"Recall:\", recall_score(inductive_labels, pred_c))"
      ]
    },
    {
      "cell_type": "markdown",
      "metadata": {
        "id": "RGGawL3WCZVH"
      },
      "source": [
        "## Overlap analysis"
      ]
    },
    {
      "cell_type": "code",
      "execution_count": null,
      "metadata": {
        "colab": {
          "background_save": true
        },
        "id": "UeSUJReyCbd7",
        "outputId": "1929f51a-d9ff-4e74-97b9-1e69b2f1d541"
      },
      "outputs": [
        {
          "name": "stdout",
          "output_type": "stream",
          "text": [
            "Number of overlapping transactions: 952\n",
            "Number of baseline only transactions: 52\n",
            "Number of GraphSAGE+features only transactions: 225\n",
            "\n",
            "Total number of TP transactions identified: 1229\n",
            "Percentage of overlapping transactions: 77.4613506916192\n",
            "Percentage of baseline only transactions: 4.231082180634663\n",
            "Percentage of GraphSAGE+Features only transactions: 18.307567127746136\n",
            "\n",
            "Value of overlapping transactions: 727712.6499999996\n",
            "Value of baseline only transactions: 15609.11\n",
            "Value of GraphSAGE+features transactions: 32144.520000000008\n",
            "\n",
            "% Value of overlapping transactions: 93.84194629326758\n",
            "% Value of baseline only transactions: 2.012867664600453\n",
            "% Value of GraphSAGE+features transactions: 4.145186042131971\n",
            "\n",
            "Average Value of overlapping transactions: 764.4040441176465\n",
            "Average Value of baseline only transactions: 300.1751923076923\n",
            "Average Value of GraphSAGE+features transactions: 142.86453333333336\n"
          ]
        }
      ],
      "source": [
        "both_count, both_value, graph_both_count, graph_only_value, baseline_only_count, baseline_only_value, graph_only_count, baseline_only_indexes, graph_only_indexes = tp_overlap_analysis(inductive_labels, baseline_pred_c, pred_c, inductive_graph_data)\n",
        "\n",
        "print(\"Number of overlapping transactions:\", both_count)\n",
        "print(\"Number of baseline only transactions:\", baseline_only_count)\n",
        "print(\"Number of GraphSAGE+features only transactions:\", graph_only_count)\n",
        "print()\n",
        "total_TPs = both_count+baseline_only_count+graph_only_count\n",
        "print(\"Total number of TP transactions identified:\", total_TPs)\n",
        "print(\"Percentage of overlapping transactions:\", 100*both_count/total_TPs)\n",
        "print(\"Percentage of baseline only transactions:\", 100*baseline_only_count/total_TPs)\n",
        "print(\"Percentage of GraphSAGE+Features only transactions:\", 100*graph_only_count/total_TPs)\n",
        "print()\n",
        "print(\"Value of overlapping transactions:\", both_value)\n",
        "print(\"Value of baseline only transactions:\", baseline_only_value)\n",
        "print(\"Value of GraphSAGE+features transactions:\", graph_only_value)\n",
        "print()\n",
        "total_value = both_value+baseline_only_value+graph_only_value\n",
        "print(\"% Value of overlapping transactions:\", 100*both_value/total_value)\n",
        "print(\"% Value of baseline only transactions:\", 100*baseline_only_value/total_value)\n",
        "print(\"% Value of GraphSAGE+features transactions:\", 100*graph_only_value/total_value)\n",
        "print()\n",
        "print(\"Average Value of overlapping transactions:\", both_value/both_count)\n",
        "print(\"Average Value of baseline only transactions:\", baseline_only_value/baseline_only_count)\n",
        "print(\"Average Value of GraphSAGE+features transactions:\", graph_only_value/graph_only_count)"
      ]
    },
    {
      "cell_type": "markdown",
      "metadata": {
        "id": "WqIac9dQzpby"
      },
      "source": [
        "# Time step analysis"
      ]
    },
    {
      "cell_type": "code",
      "execution_count": null,
      "metadata": {
        "colab": {
          "background_save": true
        },
        "id": "HmWUWpUUzpCq",
        "outputId": "11f712d6-3f31-4e85-d311-903d70c7c431"
      },
      "outputs": [
        {
          "name": "stdout",
          "output_type": "stream",
          "text": [
            "Baseline count 29 : 0\n",
            "GraphSAGE count 29 : 0\n",
            "Baseline count 30 : 0\n",
            "GraphSAGE count 30 : 0\n",
            "Baseline count 31 : 0\n",
            "GraphSAGE count 31 : 0\n",
            "Baseline count 32 : 0\n",
            "GraphSAGE count 32 : 0\n",
            "Baseline count 33 : 0\n",
            "GraphSAGE count 33 : 0\n",
            "Baseline count 34 : 0\n",
            "GraphSAGE count 34 : 0\n",
            "Baseline count 35 : 0\n",
            "GraphSAGE count 35 : 0\n",
            "Baseline count 36 : 0\n",
            "GraphSAGE count 36 : 0\n"
          ]
        }
      ],
      "source": [
        "graph_predictions = pred_c\n",
        "base_preds = baseline_pred_c\n",
        "\n",
        "\n",
        "# get a list of baseline true positives and of graph true positives\n",
        "baseline_tp = []\n",
        "baseline_time = []\n",
        "graph_tp = []\n",
        "graph_time = []\n",
        "i=0\n",
        "for index, value in inductive_labels.items():\n",
        "  # baseline true positives\n",
        "  if (value == base_preds[i]) and (value == 1):\n",
        "    baseline_tp.append(index)\n",
        "    baseline_time.append(inductive_graph_data.loc[index, \"step\"])\n",
        "  # graph true positives\n",
        "  if value == graph_predictions[i] and value == 1:\n",
        "    graph_tp.append(index)\n",
        "    graph_time.append(inductive_graph_data.loc[index, \"step\"])\n",
        "  i = i+1 \n",
        "\n",
        "\n",
        "for i in range(29,37):\n",
        "  print(\"Baseline count\", i, \":\", baseline_time.count(i))\n",
        "  print(\"GraphSAGE count\", i, \":\", graph_time.count(i))"
      ]
    }
  ],
  "metadata": {
    "colab": {
      "collapsed_sections": [],
      "provenance": []
    },
    "kernelspec": {
      "display_name": "Python 3",
      "name": "python3"
    },
    "language_info": {
      "name": "python"
    }
  },
  "nbformat": 4,
  "nbformat_minor": 0
}