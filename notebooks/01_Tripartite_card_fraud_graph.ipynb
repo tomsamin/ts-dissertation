{
  "cells": [
    {
      "cell_type": "code",
      "execution_count": 1,
      "metadata": {
        "id": "ZDsViuPbe-l_",
        "colab": {
          "base_uri": "https://localhost:8080/"
        },
        "outputId": "8c846111-b1b1-4a5c-a09e-c155449c6e65"
      },
      "outputs": [
        {
          "output_type": "stream",
          "name": "stdout",
          "text": [
            "Looking in indexes: https://pypi.org/simple, https://us-python.pkg.dev/colab-wheels/public/simple/\n",
            "Requirement already satisfied: stellargraph in /usr/local/lib/python3.7/dist-packages (1.2.1)\n",
            "Requirement already satisfied: gensim>=3.4.0 in /usr/local/lib/python3.7/dist-packages (from stellargraph) (3.6.0)\n",
            "Requirement already satisfied: scipy>=1.1.0 in /usr/local/lib/python3.7/dist-packages (from stellargraph) (1.7.3)\n",
            "Requirement already satisfied: pandas>=0.24 in /usr/local/lib/python3.7/dist-packages (from stellargraph) (1.3.5)\n",
            "Requirement already satisfied: matplotlib>=2.2 in /usr/local/lib/python3.7/dist-packages (from stellargraph) (3.2.2)\n",
            "Requirement already satisfied: numpy>=1.14 in /usr/local/lib/python3.7/dist-packages (from stellargraph) (1.21.6)\n",
            "Requirement already satisfied: networkx>=2.2 in /usr/local/lib/python3.7/dist-packages (from stellargraph) (2.6.3)\n",
            "Requirement already satisfied: tensorflow>=2.1.0 in /usr/local/lib/python3.7/dist-packages (from stellargraph) (2.9.2)\n",
            "Requirement already satisfied: scikit-learn>=0.20 in /usr/local/lib/python3.7/dist-packages (from stellargraph) (1.0.2)\n",
            "Requirement already satisfied: smart-open>=1.2.1 in /usr/local/lib/python3.7/dist-packages (from gensim>=3.4.0->stellargraph) (5.2.1)\n",
            "Requirement already satisfied: six>=1.5.0 in /usr/local/lib/python3.7/dist-packages (from gensim>=3.4.0->stellargraph) (1.15.0)\n",
            "Requirement already satisfied: pyparsing!=2.0.4,!=2.1.2,!=2.1.6,>=2.0.1 in /usr/local/lib/python3.7/dist-packages (from matplotlib>=2.2->stellargraph) (3.0.9)\n",
            "Requirement already satisfied: cycler>=0.10 in /usr/local/lib/python3.7/dist-packages (from matplotlib>=2.2->stellargraph) (0.11.0)\n",
            "Requirement already satisfied: python-dateutil>=2.1 in /usr/local/lib/python3.7/dist-packages (from matplotlib>=2.2->stellargraph) (2.8.2)\n",
            "Requirement already satisfied: kiwisolver>=1.0.1 in /usr/local/lib/python3.7/dist-packages (from matplotlib>=2.2->stellargraph) (1.4.4)\n",
            "Requirement already satisfied: typing-extensions in /usr/local/lib/python3.7/dist-packages (from kiwisolver>=1.0.1->matplotlib>=2.2->stellargraph) (4.1.1)\n",
            "Requirement already satisfied: pytz>=2017.3 in /usr/local/lib/python3.7/dist-packages (from pandas>=0.24->stellargraph) (2022.5)\n",
            "Requirement already satisfied: joblib>=0.11 in /usr/local/lib/python3.7/dist-packages (from scikit-learn>=0.20->stellargraph) (1.2.0)\n",
            "Requirement already satisfied: threadpoolctl>=2.0.0 in /usr/local/lib/python3.7/dist-packages (from scikit-learn>=0.20->stellargraph) (3.1.0)\n",
            "Requirement already satisfied: wrapt>=1.11.0 in /usr/local/lib/python3.7/dist-packages (from tensorflow>=2.1.0->stellargraph) (1.14.1)\n",
            "Requirement already satisfied: absl-py>=1.0.0 in /usr/local/lib/python3.7/dist-packages (from tensorflow>=2.1.0->stellargraph) (1.3.0)\n",
            "Requirement already satisfied: tensorboard<2.10,>=2.9 in /usr/local/lib/python3.7/dist-packages (from tensorflow>=2.1.0->stellargraph) (2.9.1)\n",
            "Requirement already satisfied: tensorflow-estimator<2.10.0,>=2.9.0rc0 in /usr/local/lib/python3.7/dist-packages (from tensorflow>=2.1.0->stellargraph) (2.9.0)\n",
            "Requirement already satisfied: packaging in /usr/local/lib/python3.7/dist-packages (from tensorflow>=2.1.0->stellargraph) (21.3)\n",
            "Requirement already satisfied: grpcio<2.0,>=1.24.3 in /usr/local/lib/python3.7/dist-packages (from tensorflow>=2.1.0->stellargraph) (1.50.0)\n",
            "Requirement already satisfied: flatbuffers<2,>=1.12 in /usr/local/lib/python3.7/dist-packages (from tensorflow>=2.1.0->stellargraph) (1.12)\n",
            "Requirement already satisfied: gast<=0.4.0,>=0.2.1 in /usr/local/lib/python3.7/dist-packages (from tensorflow>=2.1.0->stellargraph) (0.4.0)\n",
            "Requirement already satisfied: keras<2.10.0,>=2.9.0rc0 in /usr/local/lib/python3.7/dist-packages (from tensorflow>=2.1.0->stellargraph) (2.9.0)\n",
            "Requirement already satisfied: astunparse>=1.6.0 in /usr/local/lib/python3.7/dist-packages (from tensorflow>=2.1.0->stellargraph) (1.6.3)\n",
            "Requirement already satisfied: tensorflow-io-gcs-filesystem>=0.23.1 in /usr/local/lib/python3.7/dist-packages (from tensorflow>=2.1.0->stellargraph) (0.27.0)\n",
            "Requirement already satisfied: keras-preprocessing>=1.1.1 in /usr/local/lib/python3.7/dist-packages (from tensorflow>=2.1.0->stellargraph) (1.1.2)\n",
            "Requirement already satisfied: setuptools in /usr/local/lib/python3.7/dist-packages (from tensorflow>=2.1.0->stellargraph) (57.4.0)\n",
            "Requirement already satisfied: google-pasta>=0.1.1 in /usr/local/lib/python3.7/dist-packages (from tensorflow>=2.1.0->stellargraph) (0.2.0)\n",
            "Requirement already satisfied: termcolor>=1.1.0 in /usr/local/lib/python3.7/dist-packages (from tensorflow>=2.1.0->stellargraph) (2.0.1)\n",
            "Requirement already satisfied: libclang>=13.0.0 in /usr/local/lib/python3.7/dist-packages (from tensorflow>=2.1.0->stellargraph) (14.0.6)\n",
            "Requirement already satisfied: opt-einsum>=2.3.2 in /usr/local/lib/python3.7/dist-packages (from tensorflow>=2.1.0->stellargraph) (3.3.0)\n",
            "Requirement already satisfied: protobuf<3.20,>=3.9.2 in /usr/local/lib/python3.7/dist-packages (from tensorflow>=2.1.0->stellargraph) (3.17.3)\n",
            "Requirement already satisfied: h5py>=2.9.0 in /usr/local/lib/python3.7/dist-packages (from tensorflow>=2.1.0->stellargraph) (3.1.0)\n",
            "Requirement already satisfied: wheel<1.0,>=0.23.0 in /usr/local/lib/python3.7/dist-packages (from astunparse>=1.6.0->tensorflow>=2.1.0->stellargraph) (0.37.1)\n",
            "Requirement already satisfied: cached-property in /usr/local/lib/python3.7/dist-packages (from h5py>=2.9.0->tensorflow>=2.1.0->stellargraph) (1.5.2)\n",
            "Requirement already satisfied: tensorboard-data-server<0.7.0,>=0.6.0 in /usr/local/lib/python3.7/dist-packages (from tensorboard<2.10,>=2.9->tensorflow>=2.1.0->stellargraph) (0.6.1)\n",
            "Requirement already satisfied: tensorboard-plugin-wit>=1.6.0 in /usr/local/lib/python3.7/dist-packages (from tensorboard<2.10,>=2.9->tensorflow>=2.1.0->stellargraph) (1.8.1)\n",
            "Requirement already satisfied: google-auth-oauthlib<0.5,>=0.4.1 in /usr/local/lib/python3.7/dist-packages (from tensorboard<2.10,>=2.9->tensorflow>=2.1.0->stellargraph) (0.4.6)\n",
            "Requirement already satisfied: requests<3,>=2.21.0 in /usr/local/lib/python3.7/dist-packages (from tensorboard<2.10,>=2.9->tensorflow>=2.1.0->stellargraph) (2.23.0)\n",
            "Requirement already satisfied: google-auth<3,>=1.6.3 in /usr/local/lib/python3.7/dist-packages (from tensorboard<2.10,>=2.9->tensorflow>=2.1.0->stellargraph) (1.35.0)\n",
            "Requirement already satisfied: markdown>=2.6.8 in /usr/local/lib/python3.7/dist-packages (from tensorboard<2.10,>=2.9->tensorflow>=2.1.0->stellargraph) (3.4.1)\n",
            "Requirement already satisfied: werkzeug>=1.0.1 in /usr/local/lib/python3.7/dist-packages (from tensorboard<2.10,>=2.9->tensorflow>=2.1.0->stellargraph) (1.0.1)\n",
            "Requirement already satisfied: pyasn1-modules>=0.2.1 in /usr/local/lib/python3.7/dist-packages (from google-auth<3,>=1.6.3->tensorboard<2.10,>=2.9->tensorflow>=2.1.0->stellargraph) (0.2.8)\n",
            "Requirement already satisfied: cachetools<5.0,>=2.0.0 in /usr/local/lib/python3.7/dist-packages (from google-auth<3,>=1.6.3->tensorboard<2.10,>=2.9->tensorflow>=2.1.0->stellargraph) (4.2.4)\n",
            "Requirement already satisfied: rsa<5,>=3.1.4 in /usr/local/lib/python3.7/dist-packages (from google-auth<3,>=1.6.3->tensorboard<2.10,>=2.9->tensorflow>=2.1.0->stellargraph) (4.9)\n",
            "Requirement already satisfied: requests-oauthlib>=0.7.0 in /usr/local/lib/python3.7/dist-packages (from google-auth-oauthlib<0.5,>=0.4.1->tensorboard<2.10,>=2.9->tensorflow>=2.1.0->stellargraph) (1.3.1)\n",
            "Requirement already satisfied: importlib-metadata>=4.4 in /usr/local/lib/python3.7/dist-packages (from markdown>=2.6.8->tensorboard<2.10,>=2.9->tensorflow>=2.1.0->stellargraph) (4.13.0)\n",
            "Requirement already satisfied: zipp>=0.5 in /usr/local/lib/python3.7/dist-packages (from importlib-metadata>=4.4->markdown>=2.6.8->tensorboard<2.10,>=2.9->tensorflow>=2.1.0->stellargraph) (3.10.0)\n",
            "Requirement already satisfied: pyasn1<0.5.0,>=0.4.6 in /usr/local/lib/python3.7/dist-packages (from pyasn1-modules>=0.2.1->google-auth<3,>=1.6.3->tensorboard<2.10,>=2.9->tensorflow>=2.1.0->stellargraph) (0.4.8)\n",
            "Requirement already satisfied: urllib3!=1.25.0,!=1.25.1,<1.26,>=1.21.1 in /usr/local/lib/python3.7/dist-packages (from requests<3,>=2.21.0->tensorboard<2.10,>=2.9->tensorflow>=2.1.0->stellargraph) (1.24.3)\n",
            "Requirement already satisfied: certifi>=2017.4.17 in /usr/local/lib/python3.7/dist-packages (from requests<3,>=2.21.0->tensorboard<2.10,>=2.9->tensorflow>=2.1.0->stellargraph) (2022.9.24)\n",
            "Requirement already satisfied: idna<3,>=2.5 in /usr/local/lib/python3.7/dist-packages (from requests<3,>=2.21.0->tensorboard<2.10,>=2.9->tensorflow>=2.1.0->stellargraph) (2.10)\n",
            "Requirement already satisfied: chardet<4,>=3.0.2 in /usr/local/lib/python3.7/dist-packages (from requests<3,>=2.21.0->tensorboard<2.10,>=2.9->tensorflow>=2.1.0->stellargraph) (3.0.4)\n",
            "Requirement already satisfied: oauthlib>=3.0.0 in /usr/local/lib/python3.7/dist-packages (from requests-oauthlib>=0.7.0->google-auth-oauthlib<0.5,>=0.4.1->tensorboard<2.10,>=2.9->tensorflow>=2.1.0->stellargraph) (3.2.2)\n",
            "Looking in indexes: https://pypi.org/simple, https://us-python.pkg.dev/colab-wheels/public/simple/\n",
            "Requirement already satisfied: networkx in /usr/local/lib/python3.7/dist-packages (2.6.3)\n",
            "Looking in indexes: https://pypi.org/simple, https://us-python.pkg.dev/colab-wheels/public/simple/\n",
            "Requirement already satisfied: scikit-plot in /usr/local/lib/python3.7/dist-packages (0.3.7)\n",
            "Requirement already satisfied: scikit-learn>=0.18 in /usr/local/lib/python3.7/dist-packages (from scikit-plot) (1.0.2)\n",
            "Requirement already satisfied: matplotlib>=1.4.0 in /usr/local/lib/python3.7/dist-packages (from scikit-plot) (3.2.2)\n",
            "Requirement already satisfied: joblib>=0.10 in /usr/local/lib/python3.7/dist-packages (from scikit-plot) (1.2.0)\n",
            "Requirement already satisfied: scipy>=0.9 in /usr/local/lib/python3.7/dist-packages (from scikit-plot) (1.7.3)\n",
            "Requirement already satisfied: kiwisolver>=1.0.1 in /usr/local/lib/python3.7/dist-packages (from matplotlib>=1.4.0->scikit-plot) (1.4.4)\n",
            "Requirement already satisfied: numpy>=1.11 in /usr/local/lib/python3.7/dist-packages (from matplotlib>=1.4.0->scikit-plot) (1.21.6)\n",
            "Requirement already satisfied: pyparsing!=2.0.4,!=2.1.2,!=2.1.6,>=2.0.1 in /usr/local/lib/python3.7/dist-packages (from matplotlib>=1.4.0->scikit-plot) (3.0.9)\n",
            "Requirement already satisfied: cycler>=0.10 in /usr/local/lib/python3.7/dist-packages (from matplotlib>=1.4.0->scikit-plot) (0.11.0)\n",
            "Requirement already satisfied: python-dateutil>=2.1 in /usr/local/lib/python3.7/dist-packages (from matplotlib>=1.4.0->scikit-plot) (2.8.2)\n",
            "Requirement already satisfied: typing-extensions in /usr/local/lib/python3.7/dist-packages (from kiwisolver>=1.0.1->matplotlib>=1.4.0->scikit-plot) (4.1.1)\n",
            "Requirement already satisfied: six>=1.5 in /usr/local/lib/python3.7/dist-packages (from python-dateutil>=2.1->matplotlib>=1.4.0->scikit-plot) (1.15.0)\n",
            "Requirement already satisfied: threadpoolctl>=2.0.0 in /usr/local/lib/python3.7/dist-packages (from scikit-learn>=0.18->scikit-plot) (3.1.0)\n"
          ]
        }
      ],
      "source": [
        "import numpy as np\n",
        "import pandas as pd\n",
        "\n",
        "import torch\n",
        "import torch.nn as nn\n",
        "import torch.nn.functional as F\n",
        "\n",
        "!pip install stellargraph\n",
        "import stellargraph as sg\n",
        "\n",
        "!pip install networkx\n",
        "import networkx as nx\n",
        "\n",
        "!pip install scikit-plot"
      ]
    },
    {
      "cell_type": "markdown",
      "metadata": {
        "id": "H6-benAIUMEj"
      },
      "source": [
        "# Read in data \n",
        "\n",
        "Read in the data and split it into training and test datasets."
      ]
    },
    {
      "cell_type": "code",
      "execution_count": 2,
      "metadata": {
        "colab": {
          "base_uri": "https://localhost:8080/"
        },
        "id": "QIXtHG_efMLf",
        "outputId": "dd2a1c31-8f19-4419-8b43-6775907798d8"
      },
      "outputs": [
        {
          "output_type": "stream",
          "name": "stdout",
          "text": [
            "        step       customer age gender zipcodeOri       merchant zipMerchant  \\\n",
            "77596     29   'C604267980'   3    'F'    '28007'  'M1535107174'     '28007'   \n",
            "77597     29   'C604267980'   3    'F'    '28007'  'M1198415165'     '28007'   \n",
            "77598     29   'C672742304'   4    'M'    '28007'   'M348934600'     '28007'   \n",
            "77599     29  'C1899001756'   2    'M'    '28007'  'M1823072687'     '28007'   \n",
            "77600     29   'C255691679'   2    'F'    '28007'   'M692898500'     '28007'   \n",
            "...      ...            ...  ..    ...        ...            ...         ...   \n",
            "101104    36  'C1663641926'   6    'F'    '28007'  'M1823072687'     '28007'   \n",
            "101105    36  'C1376617526'   3    'F'    '28007'  'M1823072687'     '28007'   \n",
            "101106    36   'C617723960'   4    'F'    '28007'    'M50039827'     '28007'   \n",
            "101107    36   'C704456922'   2    'M'    '28007'    'M50039827'     '28007'   \n",
            "101108    36   'C426128777'   3    'F'    '28007'   'M348934600'     '28007'   \n",
            "\n",
            "                    category  amount  fraud  ...  category_es_travel  \\\n",
            "77596   es_wellnessandbeauty    9.32      0  ...                   0   \n",
            "77597   es_wellnessandbeauty  157.21      0  ...                   0   \n",
            "77598      es_transportation    9.67      0  ...                   0   \n",
            "77599      es_transportation    3.95      0  ...                   0   \n",
            "77600              es_health  206.06      0  ...                   0   \n",
            "...                      ...     ...    ...  ...                 ...   \n",
            "101104     es_transportation    4.29      0  ...                   0   \n",
            "101105     es_transportation   80.07      0  ...                   0   \n",
            "101106             es_health  130.56      1  ...                   0   \n",
            "101107             es_health  590.10      1  ...                   0   \n",
            "101108     es_transportation   24.93      0  ...                   0   \n",
            "\n",
            "       category_es_wellnessandbeauty age_0  age_1  age_2  age_3  age_4  age_5  \\\n",
            "77596                              1     0      0      0      1      0      0   \n",
            "77597                              1     0      0      0      1      0      0   \n",
            "77598                              0     0      0      0      0      1      0   \n",
            "77599                              0     0      0      1      0      0      0   \n",
            "77600                              0     0      0      1      0      0      0   \n",
            "...                              ...   ...    ...    ...    ...    ...    ...   \n",
            "101104                             0     0      0      0      0      0      0   \n",
            "101105                             0     0      0      0      1      0      0   \n",
            "101106                             0     0      0      0      0      1      0   \n",
            "101107                             0     0      0      1      0      0      0   \n",
            "101108                             0     0      0      0      1      0      0   \n",
            "\n",
            "        age_6  age_U  \n",
            "77596       0      0  \n",
            "77597       0      0  \n",
            "77598       0      0  \n",
            "77599       0      0  \n",
            "77600       0      0  \n",
            "...       ...    ...  \n",
            "101104      1      0  \n",
            "101105      0      0  \n",
            "101106      0      0  \n",
            "101107      0      0  \n",
            "101108      0      0  \n",
            "\n",
            "[23513 rows x 36 columns]\n"
          ]
        }
      ],
      "source": [
        "data_full = pd.read_csv('/content/drive/MyDrive/AI Dissertation /data/bs140513_032310.csv')\n",
        "data_full[\"index\"] = data_full.index\n",
        "# add a column to data for customer id and merchant id with prefix 1: C and 2: M\n",
        "data_full['merchant_id'] = data_full['merchant'].str.replace(\"M\", '2').str.replace(\"'\", \"\")\n",
        "data_full['customer_id'] = data_full['customer'].str.replace(\"C\", '1').str.replace(\"'\", \"\")\n",
        "data_full['category'] = data_full['category'].str.replace(\"'\", \"\")\n",
        "data_full['age'] = data_full['age'].str.replace(\"'\", \"\")\n",
        "\n",
        "category_oh = pd.get_dummies(data_full['category'], prefix='category')\n",
        "data_full = data_full.join(category_oh)\n",
        "\n",
        "age_oh = pd.get_dummies(data_full['age'], prefix='age')\n",
        "data_full = data_full.join(age_oh)\n",
        "\n",
        "def split_data(data, split_start, split_end):\n",
        "    return data.loc[(data['step'] >= split_start) & (data['step'] <= split_end)]\n",
        "\n",
        "data_train = split_data(data_full, 0, 28)\n",
        "data_test = split_data(data_full, 29, 36)\n",
        "\n",
        "print(data_test)\n"
      ]
    },
    {
      "cell_type": "markdown",
      "metadata": {
        "id": "oA2ZcrQAUX9y"
      },
      "source": [
        "## Nodes and their features\n",
        "\n",
        "Take the customer id as the customer nodes. Age and gender are customer node features.\n",
        "\n",
        "Take the merchant id as the merchant nodes. There are no merchant node features.\n",
        "\n",
        "Take the index of the pandas dataset as the transaction nodes. Transaction category and amount are transaction node features. "
      ]
    },
    {
      "cell_type": "code",
      "execution_count": 3,
      "metadata": {
        "colab": {
          "base_uri": "https://localhost:8080/"
        },
        "id": "yT4D27_-hmwu",
        "outputId": "7d7a1aaa-0d18-4718-c927-e15876fd242d"
      },
      "outputs": [
        {
          "output_type": "stream",
          "name": "stdout",
          "text": [
            "             step  age_0  age_1  age_2  age_3  age_4  age_5  age_6  age_U\n",
            "customer_id                                                              \n",
            "11093826151     0      0      0      0      0      1      0      0      0\n",
            "1352968107      0      0      0      1      0      0      0      0      0\n",
            "12054744914     0      0      0      0      0      1      0      0      0\n",
            "11760612790     0      0      0      0      1      0      0      0      0\n",
            "1757503768      0      0      0      0      0      0      1      0      0\n",
            "...           ...    ...    ...    ...    ...    ...    ...    ...    ...\n",
            "1417650106     28      0      0      0      1      0      0      0      0\n",
            "11813823560    28      0      0      0      1      0      0      0      0\n",
            "11726895756    28      0      0      0      0      0      1      0      0\n",
            "1910454738     28      0      0      0      0      1      0      0      0\n",
            "11501096176    28      0      0      0      0      0      1      0      0\n",
            "\n",
            "[3949 rows x 9 columns]\n"
          ]
        }
      ],
      "source": [
        "#node_customers = pd.DataFrame([1]*len(data_train.customer_id.unique())).set_index(data_train.customer_id.unique())\n",
        "node_customers = data_train[[\"step\", \"customer_id\", \"age_0\", \"age_1\", \"age_2\", \"age_3\", \"age_4\", \"age_5\", \"age_6\", \"age_U\"]].drop_duplicates(subset=[\"customer_id\"]).set_index(\"customer_id\")\n",
        "node_merchants = pd.DataFrame([1]*len(data_train.merchant_id.unique())).set_index(data_train.merchant_id.unique())\n",
        "\n",
        "# transaction node data\n",
        "node_txns = data_train[[\"step\", \"amount\", \"category_es_home\", \"category_es_hotelservices\", \"category_es_hyper\", \"category_es_leisure\", \"category_es_otherservices\", \"category_es_sportsandtoys\", \"category_es_tech\", \"category_es_transportation\", \"category_es_travel\", \"category_es_wellnessandbeauty\", \"index\"]]\n",
        "print(node_customers)"
      ]
    },
    {
      "cell_type": "code",
      "execution_count": 3,
      "metadata": {
        "id": "VumxDNBssNiB"
      },
      "outputs": [],
      "source": []
    },
    {
      "cell_type": "markdown",
      "metadata": {
        "id": "8Bfy7khfV2mn"
      },
      "source": [
        "## Edges \n",
        "\n",
        "Take the customer id and index to form edges.\n",
        "\n",
        "Take the index and merchant to form edges."
      ]
    },
    {
      "cell_type": "code",
      "execution_count": 4,
      "metadata": {
        "id": "NHDQuA8FhzbI"
      },
      "outputs": [],
      "source": [
        "### edges\n",
        "# customer to transaction edges\n",
        "edge_customer = data_train[[\"customer_id\", \"index\"]]\n",
        "\n",
        "# transaction to merchant edges\n",
        "edge_merchant = data_train[[\"index\", \"merchant_id\"]]\n"
      ]
    },
    {
      "cell_type": "code",
      "execution_count": 5,
      "metadata": {
        "colab": {
          "base_uri": "https://localhost:8080/"
        },
        "id": "YPkuWQx9V1mR",
        "outputId": "a4db87b2-e1ff-455e-e5a7-c50180709265"
      },
      "outputs": [
        {
          "output_type": "stream",
          "name": "stdout",
          "text": [
            "StellarGraph: Undirected multigraph\n",
            " Nodes: 81595, Edges: 155192\n",
            "\n",
            " Node types:\n",
            "  transaction: [77596]\n",
            "    Features: float32 vector, length 13\n",
            "    Edge types: transaction-default->customer, transaction-default->merchant\n",
            "  customer: [3949]\n",
            "    Features: float32 vector, length 9\n",
            "    Edge types: customer-default->transaction\n",
            "  merchant: [50]\n",
            "    Features: float32 vector, length 1\n",
            "    Edge types: merchant-default->transaction\n",
            "\n",
            " Edge types:\n",
            "    merchant-default->transaction: [77596]\n",
            "        Weights: all 1 (default)\n",
            "        Features: none\n",
            "    customer-default->transaction: [77596]\n",
            "        Weights: all 1 (default)\n",
            "        Features: none\n"
          ]
        }
      ],
      "source": [
        "import sys\n",
        "sys.path.append('/content/drive/MyDrive')\n",
        "\n",
        "from inductiveGRL.graphconstruction import GraphConstruction\n",
        "\n",
        "nodes = {\"customer\":data_train.customer_id, \"merchant\":data_train.merchant_id, \"transaction\":data_train.index}\n",
        "edges = [zip(edge_customer.customer_id, edge_customer.index),zip(edge_merchant.index, edge_merchant.merchant_id)]\n",
        "features = {\"transaction\": node_txns, 'customer': node_customers, 'merchant': node_merchants}\n",
        "#print(node_customers)\n",
        "#print(node_merchants)\n",
        "\n",
        "graph = GraphConstruction(nodes, edges, features)\n",
        "S = graph.get_stellargraph()\n",
        "print(S.info())\n"
      ]
    },
    {
      "cell_type": "markdown",
      "metadata": {
        "id": "nyRZOXvogXUD"
      },
      "source": [
        "# Train HinSage"
      ]
    },
    {
      "cell_type": "code",
      "execution_count": 6,
      "metadata": {
        "colab": {
          "base_uri": "https://localhost:8080/"
        },
        "id": "xZj4ScbBgXCr",
        "outputId": "91ec9621-5215-4ace-cddd-96d5e3f8c87f"
      },
      "outputs": [
        {
          "output_type": "stream",
          "name": "stderr",
          "text": [
            "/usr/local/lib/python3.7/dist-packages/keras/optimizers/optimizer_v2/adam.py:110: UserWarning: The `lr` argument is deprecated, use `learning_rate` instead.\n",
            "  super(Adam, self).__init__(name, **kwargs)\n"
          ]
        },
        {
          "output_type": "stream",
          "name": "stdout",
          "text": [
            "Epoch 1/5\n",
            "12416/12416 [==============================] - 78s 6ms/step - loss: 0.0587 - val_loss: 0.0218\n",
            "Epoch 2/5\n",
            "12416/12416 [==============================] - 63s 5ms/step - loss: 0.0296 - val_loss: 0.0234\n",
            "Epoch 3/5\n",
            "12416/12416 [==============================] - 64s 5ms/step - loss: 0.0272 - val_loss: 0.0276\n",
            "Epoch 4/5\n",
            "12416/12416 [==============================] - 65s 5ms/step - loss: 0.0257 - val_loss: 0.0201\n",
            "Epoch 5/5\n",
            "12416/12416 [==============================] - 64s 5ms/step - loss: 0.0248 - val_loss: 0.0442\n",
            "15520/15520 [==============================] - 53s 3ms/step\n"
          ]
        }
      ],
      "source": [
        "from inductiveGRL.hinsage import HinSAGE_Representation_Learner\n",
        "\n",
        "#GraphSAGE parameters\n",
        "#num_samples = [2,32]\n",
        "num_samples = [2, 5]\n",
        "embedding_node_type = \"transaction\"\n",
        "\n",
        "hinsage = HinSAGE_Representation_Learner(embedding_size=64, num_samples=num_samples, embedding_for_node_type=embedding_node_type)\n",
        "trained_hinsage_model, train_emb = hinsage.train_hinsage(S, list(data_train.index), data_train['fraud'], batch_size=5, epochs=5)"
      ]
    },
    {
      "cell_type": "markdown",
      "source": [
        "# Inductive Step\n",
        "\n",
        "We want to keep the original indices after concatenating the train and inductive data, because they represent the transaction node ids. We need to concatenate these dataframes in order to easily construct the new graph."
      ],
      "metadata": {
        "id": "mh1SE7C1MlLJ"
      }
    },
    {
      "cell_type": "code",
      "source": [
        "pd.options.mode.chained_assignment = None\n",
        "\n",
        "#data_train['index'] = data_train.index\n",
        "#data_test['index'] = data_test.index\n",
        "inductive_graph_data = pd.concat((data_train, data_test))\n",
        "#inductive_graph_data = inductive_graph_data.set_index(inductive_graph_data['index']).drop(\"index\",axis = 1)\n",
        "\n",
        "print(inductive_graph_data)"
      ],
      "metadata": {
        "colab": {
          "base_uri": "https://localhost:8080/"
        },
        "id": "YvZgXvJtMoQ_",
        "outputId": "289d5182-f27f-4a1a-fb07-526d9f3bcf3e"
      },
      "execution_count": 7,
      "outputs": [
        {
          "output_type": "stream",
          "name": "stdout",
          "text": [
            "        step       customer age gender zipcodeOri       merchant zipMerchant  \\\n",
            "0          0  'C1093826151'   4    'M'    '28007'   'M348934600'     '28007'   \n",
            "1          0   'C352968107'   2    'M'    '28007'   'M348934600'     '28007'   \n",
            "2          0  'C2054744914'   4    'F'    '28007'  'M1823072687'     '28007'   \n",
            "3          0  'C1760612790'   3    'M'    '28007'   'M348934600'     '28007'   \n",
            "4          0   'C757503768'   5    'M'    '28007'   'M348934600'     '28007'   \n",
            "...      ...            ...  ..    ...        ...            ...         ...   \n",
            "101104    36  'C1663641926'   6    'F'    '28007'  'M1823072687'     '28007'   \n",
            "101105    36  'C1376617526'   3    'F'    '28007'  'M1823072687'     '28007'   \n",
            "101106    36   'C617723960'   4    'F'    '28007'    'M50039827'     '28007'   \n",
            "101107    36   'C704456922'   2    'M'    '28007'    'M50039827'     '28007'   \n",
            "101108    36   'C426128777'   3    'F'    '28007'   'M348934600'     '28007'   \n",
            "\n",
            "                 category  amount  fraud  ...  category_es_travel  \\\n",
            "0       es_transportation    4.55      0  ...                   0   \n",
            "1       es_transportation   39.68      0  ...                   0   \n",
            "2       es_transportation   26.89      0  ...                   0   \n",
            "3       es_transportation   17.25      0  ...                   0   \n",
            "4       es_transportation   35.72      0  ...                   0   \n",
            "...                   ...     ...    ...  ...                 ...   \n",
            "101104  es_transportation    4.29      0  ...                   0   \n",
            "101105  es_transportation   80.07      0  ...                   0   \n",
            "101106          es_health  130.56      1  ...                   0   \n",
            "101107          es_health  590.10      1  ...                   0   \n",
            "101108  es_transportation   24.93      0  ...                   0   \n",
            "\n",
            "       category_es_wellnessandbeauty age_0  age_1  age_2  age_3  age_4  age_5  \\\n",
            "0                                  0     0      0      0      0      1      0   \n",
            "1                                  0     0      0      1      0      0      0   \n",
            "2                                  0     0      0      0      0      1      0   \n",
            "3                                  0     0      0      0      1      0      0   \n",
            "4                                  0     0      0      0      0      0      1   \n",
            "...                              ...   ...    ...    ...    ...    ...    ...   \n",
            "101104                             0     0      0      0      0      0      0   \n",
            "101105                             0     0      0      0      1      0      0   \n",
            "101106                             0     0      0      0      0      1      0   \n",
            "101107                             0     0      0      1      0      0      0   \n",
            "101108                             0     0      0      0      1      0      0   \n",
            "\n",
            "        age_6  age_U  \n",
            "0           0      0  \n",
            "1           0      0  \n",
            "2           0      0  \n",
            "3           0      0  \n",
            "4           0      0  \n",
            "...       ...    ...  \n",
            "101104      1      0  \n",
            "101105      0      0  \n",
            "101106      0      0  \n",
            "101107      0      0  \n",
            "101108      0      0  \n",
            "\n",
            "[101109 rows x 36 columns]\n"
          ]
        }
      ]
    },
    {
      "cell_type": "markdown",
      "source": [
        "For the inductive step, we need to add the new, unseen transactions to the graph. Because the current StellarGraph implementation does not support adding nodes and edges to an existing stellargraph object, we create a new graph that contains all the nodes from the train graph in addition to the new nodes.\n"
      ],
      "metadata": {
        "id": "1IbKXakmRmC_"
      }
    },
    {
      "cell_type": "code",
      "source": [
        "def data_to_graph(dataset):\n",
        "  ### nodes\n",
        "  #node_customers = pd.DataFrame([1]*len(dataset.customer_id.unique())).set_index(dataset.customer_id.unique())\n",
        "  node_customers = dataset[[\"step\", \"customer_id\", \"age_0\", \"age_1\", \"age_2\", \"age_3\", \"age_4\", \"age_5\", \"age_6\", \"age_U\"]].drop_duplicates(subset=[\"customer_id\"]).set_index(\"customer_id\")\n",
        "  #print(node_customers.loc[\"1369566106\"])\n",
        "  node_merchants = pd.DataFrame([1]*len(dataset.merchant_id.unique())).set_index(dataset.merchant_id.unique())\n",
        "\n",
        "  # transaction node data\n",
        "  node_txns = dataset[[\"step\", \"amount\", \"category_es_home\", \"category_es_hotelservices\", \"category_es_hyper\", \"category_es_leisure\", \n",
        "                       \"category_es_otherservices\", \"category_es_sportsandtoys\", \"category_es_tech\", \"category_es_transportation\", \n",
        "                       \"category_es_travel\", \"category_es_wellnessandbeauty\", \"index\"]]\n",
        "\n",
        "  ### edges\n",
        "  # customer to transaction edges\n",
        "  edge_customer = dataset[[\"customer_id\", \"index\"]]\n",
        "\n",
        "  # transaction to merchant edges\n",
        "  edge_merchant = dataset[[\"index\", \"merchant_id\"]]\n",
        "\n",
        "  nodes = {\"customer\":dataset.customer_id, \"merchant\":dataset.merchant_id, \"transaction\":dataset.index}\n",
        "  edges = [zip(edge_customer.customer_id, edge_customer.index),zip(edge_merchant.index, edge_merchant.merchant_id)]\n",
        "  features = {\"transaction\": node_txns, 'customer': node_customers, 'merchant': node_merchants}\n",
        "\n",
        "  graph = GraphConstruction(nodes, edges, features)\n",
        "  S = graph.get_stellargraph()\n",
        "  return S\n",
        "\n",
        "#print(inductive_graph_data)\n",
        "S_ind = data_to_graph(inductive_graph_data)\n",
        "print(S_ind.info())"
      ],
      "metadata": {
        "colab": {
          "base_uri": "https://localhost:8080/"
        },
        "id": "B1DdzNWnTal7",
        "outputId": "ac138e65-053c-495a-c85a-0720b953c6d2"
      },
      "execution_count": 8,
      "outputs": [
        {
          "output_type": "stream",
          "name": "stdout",
          "text": [
            "StellarGraph: Undirected multigraph\n",
            " Nodes: 105183, Edges: 202218\n",
            "\n",
            " Node types:\n",
            "  transaction: [101109]\n",
            "    Features: float32 vector, length 13\n",
            "    Edge types: transaction-default->customer, transaction-default->merchant\n",
            "  customer: [4024]\n",
            "    Features: float32 vector, length 9\n",
            "    Edge types: customer-default->transaction\n",
            "  merchant: [50]\n",
            "    Features: float32 vector, length 1\n",
            "    Edge types: merchant-default->transaction\n",
            "\n",
            " Edge types:\n",
            "    merchant-default->transaction: [101109]\n",
            "        Weights: all 1 (default)\n",
            "        Features: none\n",
            "    customer-default->transaction: [101109]\n",
            "        Weights: all 1 (default)\n",
            "        Features: none\n"
          ]
        }
      ]
    },
    {
      "cell_type": "code",
      "metadata": {
        "id": "3KzBWqDeHpsR",
        "colab": {
          "base_uri": "https://localhost:8080/"
        },
        "outputId": "e4576540-0dcd-49ad-f103-24fb562cdbf8"
      },
      "source": [
        "inductive_emb = hinsage.inductive_step_hinsage(S_ind, trained_hinsage_model, data_test.index, batch_size=5)"
      ],
      "execution_count": 9,
      "outputs": [
        {
          "output_type": "stream",
          "name": "stdout",
          "text": [
            "4703/4703 [==============================] - 16s 3ms/step\n"
          ]
        }
      ]
    },
    {
      "cell_type": "markdown",
      "metadata": {
        "id": "qU4XiF21HpsU"
      },
      "source": [
        "### 4. Classification: predictions based on inductive embeddings"
      ]
    },
    {
      "cell_type": "markdown",
      "metadata": {
        "id": "YD6cZUBJHpsU"
      },
      "source": [
        "Select your preferred classification model"
      ]
    },
    {
      "cell_type": "code",
      "metadata": {
        "id": "yR3Y0utZHpsV"
      },
      "source": [
        "from xgboost import XGBClassifier\n",
        "classifier = XGBClassifier(n_estimators=100)"
      ],
      "execution_count": 10,
      "outputs": []
    },
    {
      "cell_type": "markdown",
      "metadata": {
        "id": "8VRm3HOhHpsY"
      },
      "source": [
        "If requested, the original transaction features are added to the generated embeddings. If these features are added, a baseline consisting of only these features (without embeddings) is included to analyze the net impact of embeddings on the predictive performance."
      ]
    },
    {
      "cell_type": "code",
      "metadata": {
        "id": "PUS6wpHxHpsY"
      },
      "source": [
        "train_labels = data_train['fraud']\n",
        "\n",
        "add_additional_data = True\n",
        "\n",
        "if add_additional_data is True:\n",
        "    train_emb_m = pd.merge(train_emb, data_train[[\"amount\", \"age_0\", \"age_1\", \"age_2\", \"age_3\", \"age_4\", \"age_5\", \"age_6\", \"age_U\", \"category_es_home\", \"category_es_hotelservices\", \"category_es_hyper\", \"category_es_leisure\", \"category_es_otherservices\", \"category_es_sportsandtoys\", \"category_es_tech\", \"category_es_transportation\", \"category_es_travel\", \"category_es_wellnessandbeauty\"]], left_index=True, right_index=True)\n",
        "    inductive_emb_m = pd.merge(inductive_emb, data_test[[\"amount\", \"age_0\", \"age_1\", \"age_2\", \"age_3\", \"age_4\", \"age_5\", \"age_6\", \"age_U\", \"category_es_home\", \"category_es_hotelservices\", \"category_es_hyper\", \"category_es_leisure\", \"category_es_otherservices\", \"category_es_sportsandtoys\", \"category_es_tech\", \"category_es_transportation\", \"category_es_travel\", \"category_es_wellnessandbeauty\"]], left_index=True, right_index=True)\n",
        "\n",
        "    #baseline_train = data_train.drop('fraud', axis=1)\n",
        "    #baseline_inductive = data_test.drop('fraud', axis=1)\n",
        "    baseline_train = data_train[[\"amount\", \"age_0\", \"age_1\", \"age_2\", \"age_3\", \"age_4\", \"age_5\", \"age_6\", \"age_U\", \"category_es_home\", \"category_es_hotelservices\", \"category_es_hyper\", \"category_es_leisure\", \"category_es_otherservices\", \"category_es_sportsandtoys\", \"category_es_tech\", \"category_es_transportation\", \"category_es_travel\", \"category_es_wellnessandbeauty\"]]\n",
        "    baseline_inductive = data_test[[\"amount\", \"age_0\", \"age_1\", \"age_2\", \"age_3\", \"age_4\", \"age_5\", \"age_6\", \"age_U\", \"category_es_home\", \"category_es_hotelservices\", \"category_es_hyper\", \"category_es_leisure\", \"category_es_otherservices\", \"category_es_sportsandtoys\", \"category_es_tech\", \"category_es_transportation\", \"category_es_travel\", \"category_es_wellnessandbeauty\"]]\n",
        "\n",
        "    classifier.fit(baseline_train, train_labels)\n",
        "    baseline_predictions = classifier.predict_proba(baseline_inductive)\n",
        "\n",
        "    classifier.fit(train_emb_m, train_labels)\n",
        "    predictions = classifier.predict_proba(inductive_emb_m)\n",
        "    \n",
        "else:\n",
        "  classifier.fit(train_emb, train_labels)\n",
        "  predictions = classifier.predict_proba(inductive_emb)\n"
      ],
      "execution_count": 11,
      "outputs": []
    },
    {
      "cell_type": "markdown",
      "metadata": {
        "id": "cB19y-X4Hpsb"
      },
      "source": [
        "### 5. Evaluation"
      ]
    },
    {
      "cell_type": "markdown",
      "metadata": {
        "id": "5U_rOHXAHpsb"
      },
      "source": [
        "Given the highly imbalanced nature of our dataset, we evaluate the results based on precision-recall curves. "
      ]
    },
    {
      "cell_type": "code",
      "metadata": {
        "scrolled": false,
        "id": "Btgrm2pvHpsc",
        "colab": {
          "base_uri": "https://localhost:8080/",
          "height": 314
        },
        "outputId": "efbff0eb-be72-4c50-edea-ef7c9e226754"
      },
      "source": [
        "from inductiveGRL.evaluation import Evaluation\n",
        "inductive_labels = data_full.loc[inductive_emb.index]['fraud']\n",
        "\n",
        "graphsage_evaluation = Evaluation(predictions, inductive_labels, \"GraphSAGE+features\") \n",
        "graphsage_evaluation.pr_curve()\n",
        "\n",
        "if add_additional_data is True:\n",
        "    baseline_evaluation = Evaluation(baseline_predictions, inductive_labels, \"Baseline\")\n",
        "    baseline_evaluation.pr_curve()"
      ],
      "execution_count": 12,
      "outputs": [
        {
          "output_type": "stream",
          "name": "stdout",
          "text": [
            "Average precision-recall score XGBoost: 0.8742355723\n",
            "Average precision-recall score XGBoost: 0.8174838541\n"
          ]
        },
        {
          "output_type": "display_data",
          "data": {
            "text/plain": [
              "<Figure size 432x288 with 1 Axes>"
            ],
            "image/png": "[encoded data removed]"
          },
          "metadata": {
            "needs_background": "light"
          }
        }
      ]
    },
    {
      "cell_type": "markdown",
      "source": [
        "## Analysis of the overlap between graph and non-graph"
      ],
      "metadata": {
        "id": "qbNJ7HpJvHZ6"
      }
    },
    {
      "cell_type": "markdown",
      "source": [
        "## Baseline Confusion Matrix"
      ],
      "metadata": {
        "id": "kWed9kviK7un"
      }
    },
    {
      "cell_type": "code",
      "source": [
        "from sklearn.metrics import ConfusionMatrixDisplay\n",
        "from sklearn.metrics import precision_score\n",
        "from sklearn.metrics import recall_score\n",
        "\n",
        "ConfusionMatrixDisplay.from_predictions(inductive_labels, np.argmax(baseline_predictions, axis=1))\n",
        "print(\"Precision:\", precision_score(inductive_labels, np.argmax(baseline_predictions, axis=1)))\n",
        "print(\"Recall:\", recall_score(inductive_labels, np.argmax(baseline_predictions, axis=1)))"
      ],
      "metadata": {
        "colab": {
          "base_uri": "https://localhost:8080/",
          "height": 314
        },
        "id": "HE5Pkg2FJY5Q",
        "outputId": "3ec56875-8ba1-47d5-b2f3-51092f101419"
      },
      "execution_count": 13,
      "outputs": [
        {
          "output_type": "stream",
          "name": "stdout",
          "text": [
            "Precision: 0.891213389121339\n",
            "Recall: 0.665625\n"
          ]
        },
        {
          "output_type": "display_data",
          "data": {
            "text/plain": [
              "<Figure size 432x288 with 2 Axes>"
            ],
            "image/png": "[encoded data removed]"
          },
          "metadata": {
            "needs_background": "light"
          }
        }
      ]
    },
    {
      "cell_type": "markdown",
      "source": [
        "## GraphSAGE+Features Confusion Matrix"
      ],
      "metadata": {
        "id": "kLtK0mNTK_Dl"
      }
    },
    {
      "cell_type": "code",
      "source": [
        "ConfusionMatrixDisplay.from_predictions(inductive_labels, np.argmax(predictions, axis=1))\n",
        "print(\"Precision:\", precision_score(inductive_labels, np.argmax(predictions, axis=1)))\n",
        "print(\"Recall:\", recall_score(inductive_labels, np.argmax(predictions, axis=1)))"
      ],
      "metadata": {
        "colab": {
          "base_uri": "https://localhost:8080/",
          "height": 314
        },
        "id": "IDDU3Qm-LEpz",
        "outputId": "f80ed4d2-e618-4866-8ba5-3e2659ef464f"
      },
      "execution_count": 14,
      "outputs": [
        {
          "output_type": "stream",
          "name": "stdout",
          "text": [
            "Precision: 0.9336283185840708\n",
            "Recall: 0.659375\n"
          ]
        },
        {
          "output_type": "display_data",
          "data": {
            "text/plain": [
              "<Figure size 432x288 with 2 Axes>"
            ],
            "image/png": "[encoded data removed]"
          },
          "metadata": {
            "needs_background": "light"
          }
        }
      ]
    },
    {
      "cell_type": "markdown",
      "source": [
        "## True Positive Overlap Analysis \n"
      ],
      "metadata": {
        "id": "_YKOgzRiLreo"
      }
    },
    {
      "cell_type": "code",
      "source": [
        "def tp_overlap_analysis(labels, baseline_predictions, graph_predictions, txn_data):\n",
        "  baseline_tp = []\n",
        "  graph_tp = []\n",
        "  # get a list of baseline true positives and of graph true positives\n",
        "  i=0\n",
        "  for index, value in labels.items():\n",
        "    # baseline true positives\n",
        "    if value == baseline_predictions[i] and value == 1:\n",
        "      baseline_tp.append(index)\n",
        "    # graph true positives\n",
        "    if value == graph_predictions[i] and value == 1:\n",
        "      graph_tp.append(index)\n",
        "    i = i+1 \n",
        "  \n",
        "  # compare id's from besline to graph true positives\n",
        "  both_count = 0\n",
        "  both_value = 0\n",
        "  baseline_only_count = 0\n",
        "  baseline_only_value = 0\n",
        "  baseline_only_indexes = []\n",
        "  for baseline_index in baseline_tp:\n",
        "    if baseline_index in graph_tp:\n",
        "      both_count += 1\n",
        "      both_value += txn_data.loc[baseline_index, \"amount\"]\n",
        "    else:\n",
        "      baseline_only_count += 1\n",
        "      baseline_only_value += txn_data.loc[baseline_index, \"amount\"]\n",
        "      baseline_only_indexes.append(baseline_index)\n",
        "  graph_only_count = 0\n",
        "  graph_only_value = 0\n",
        "  graph_only_indexes = []\n",
        "  graph_both_count = 0\n",
        "  for graph_index in graph_tp:\n",
        "    if graph_index in baseline_tp:\n",
        "      graph_both_count += 1\n",
        "    else:\n",
        "      graph_only_count += 1\n",
        "      graph_only_value += txn_data.loc[graph_index, \"amount\"]\n",
        "      graph_only_indexes.append(graph_index)\n",
        "  return both_count, both_value, graph_both_count, graph_only_value, baseline_only_count, baseline_only_value, graph_only_count, baseline_only_indexes, graph_only_indexes\n",
        "\n",
        "both_count, both_value, graph_both_count, graph_only_value, baseline_only_count, baseline_only_value, graph_only_count, baseline_only_indexes, graph_only_indexes = tp_overlap_analysis(inductive_labels, np.argmax(baseline_predictions, axis=1), np.argmax(predictions, axis=1), inductive_graph_data)\n",
        "\n",
        "print(\"Number of overlapping transactions:\", both_count)\n",
        "print(\"Number of baseline only transactions:\", baseline_only_count)\n",
        "print(\"Number of GraphSAGE+features only transactions:\", graph_only_count)\n",
        "print()\n",
        "total_TPs = both_count+baseline_only_count+graph_only_count\n",
        "print(\"Total number of TP transactions identified:\", total_TPs)\n",
        "print(\"Percentage of overlapping transactions:\", 100*both_count/total_TPs)\n",
        "print(\"Percentage of baseline only transactions:\", 100*baseline_only_count/total_TPs)\n",
        "print(\"Percentage of GraphSAGE+Features only transactions:\", 100*graph_only_count/total_TPs)\n",
        "print()\n",
        "print(\"Value of overlapping transactions:\", both_value)\n",
        "print(\"Value of baseline only transactions:\", baseline_only_value)\n",
        "print(\"Value of GraphSAGE+features transactions:\", graph_only_value)\n",
        "print()\n",
        "total_value = both_value+baseline_only_value+graph_only_value\n",
        "print(\"% Value of overlapping transactions:\", 100*both_value/total_value)\n",
        "print(\"% Value of baseline only transactions:\", 100*baseline_only_value/total_value)\n",
        "print(\"% Value of GraphSAGE+features transactions:\", 100*graph_only_value/total_value)\n",
        "print()\n",
        "print(\"Average Value of overlapping transactions:\", both_value/both_count)\n",
        "print(\"Average Value of baseline only transactions:\", baseline_only_value/baseline_only_count)\n",
        "print(\"Average Value of GraphSAGE+features transactions:\", graph_only_value/graph_only_count)"
      ],
      "metadata": {
        "colab": {
          "base_uri": "https://localhost:8080/"
        },
        "id": "bV0JcBpnLu1s",
        "outputId": "c67c5c05-ab64-4d1e-a2d9-57e85b8f47b1"
      },
      "execution_count": 15,
      "outputs": [
        {
          "output_type": "stream",
          "name": "stdout",
          "text": [
            "Number of overlapping transactions: 196\n",
            "Number of baseline only transactions: 17\n",
            "Number of GraphSAGE+features only transactions: 15\n",
            "\n",
            "Total number of TP transactions identified: 228\n",
            "Percentage of overlapping transactions: 85.96491228070175\n",
            "Percentage of baseline only transactions: 7.456140350877193\n",
            "Percentage of GraphSAGE+Features only transactions: 6.578947368421052\n",
            "\n",
            "Value of overlapping transactions: 173627.6200000001\n",
            "Value of baseline only transactions: 7026.530000000001\n",
            "Value of GraphSAGE+features transactions: 2944.45\n",
            "\n",
            "% Value of overlapping transactions: 94.56914159476162\n",
            "% Value of baseline only transactions: 3.827115239440822\n",
            "% Value of GraphSAGE+features transactions: 1.6037431657975594\n",
            "\n",
            "Average Value of overlapping transactions: 885.8552040816332\n",
            "Average Value of baseline only transactions: 413.3252941176471\n",
            "Average Value of GraphSAGE+features transactions: 196.29666666666665\n"
          ]
        }
      ]
    },
    {
      "cell_type": "markdown",
      "source": [
        "# Time analysis\n"
      ],
      "metadata": {
        "id": "xdOze4AozwIw"
      }
    },
    {
      "cell_type": "code",
      "source": [
        "graph_predictions = np.argmax(predictions, axis=1)\n",
        "base_preds = np.argmax(baseline_predictions, axis=1)\n",
        "\n",
        "\n",
        "# get a list of baseline true positives and of graph true positives\n",
        "baseline_tp = []\n",
        "baseline_time = []\n",
        "graph_tp = []\n",
        "graph_time = []\n",
        "i=0\n",
        "for index, value in inductive_labels.items():\n",
        "  # baseline true positives\n",
        "  if (value == base_preds[i]) and (value == 1):\n",
        "    baseline_tp.append(index)\n",
        "    baseline_time.append(inductive_graph_data.loc[index, \"step\"])\n",
        "  # graph true positives\n",
        "  if value == graph_predictions[i] and value == 1:\n",
        "    graph_tp.append(index)\n",
        "    graph_time.append(inductive_graph_data.loc[index, \"step\"])\n",
        "  i = i+1 \n",
        "\n",
        "\n",
        "for i in range(29,37):\n",
        "  print(\"Baseline count\", i, \":\", baseline_time.count(i))\n",
        "  print(\"GraphSAGE count\", i, \":\", graph_time.count(i))"
      ],
      "metadata": {
        "colab": {
          "base_uri": "https://localhost:8080/"
        },
        "id": "IaljHk_DzyZt",
        "outputId": "59325b6d-f18a-4ac8-e89f-6b106a0c9a7e"
      },
      "execution_count": 23,
      "outputs": [
        {
          "output_type": "stream",
          "name": "stdout",
          "text": [
            "Baseline count 29 : 28\n",
            "GraphSAGE count 29 : 25\n",
            "Baseline count 30 : 25\n",
            "GraphSAGE count 30 : 24\n",
            "Baseline count 31 : 29\n",
            "GraphSAGE count 31 : 25\n",
            "Baseline count 32 : 25\n",
            "GraphSAGE count 32 : 25\n",
            "Baseline count 33 : 29\n",
            "GraphSAGE count 33 : 29\n",
            "Baseline count 34 : 28\n",
            "GraphSAGE count 34 : 31\n",
            "Baseline count 35 : 26\n",
            "GraphSAGE count 35 : 29\n",
            "Baseline count 36 : 23\n",
            "GraphSAGE count 36 : 23\n"
          ]
        }
      ]
    },
    {
      "cell_type": "markdown",
      "source": [
        "# Changing the decision boundary\n"
      ],
      "metadata": {
        "id": "C9i4RgjP4zy8"
      }
    },
    {
      "cell_type": "code",
      "source": [
        "print(baseline_predictions[:,1])\n",
        "#np.argmax(baseline_predictions, axis=1)\n",
        "\n",
        "def classify_probabilities(prediction_probs, decision_boundary):\n",
        "  pred_c = []\n",
        "  for p in prediction_probs:\n",
        "    if p > decision_boundary:\n",
        "      pred_c.append(1)\n",
        "    else:\n",
        "      pred_c.append(0)\n",
        "  return pred_c\n",
        "\n"
      ],
      "metadata": {
        "colab": {
          "base_uri": "https://localhost:8080/"
        },
        "id": "RCF91k0s42WL",
        "outputId": "46b90c34-6a66-4213-9872-38a65169f878"
      },
      "execution_count": 17,
      "outputs": [
        {
          "output_type": "stream",
          "name": "stdout",
          "text": [
            "[1.31355915e-02 1.40381187e-01 4.11182991e-05 ... 7.67907426e-02\n",
            " 9.52800691e-01 4.35707261e-05]\n"
          ]
        }
      ]
    },
    {
      "cell_type": "markdown",
      "source": [
        "## Baseline Confusion matrix"
      ],
      "metadata": {
        "id": "e1SgOWZ4Bvek"
      }
    },
    {
      "cell_type": "code",
      "source": [
        "baseline_pred_c = classify_probabilities(baseline_predictions[:, 1], 0.35)\n",
        "ConfusionMatrixDisplay.from_predictions(inductive_labels, baseline_pred_c)\n",
        "print(\"Precision:\", precision_score(inductive_labels, baseline_pred_c))\n",
        "print(\"Recall:\", recall_score(inductive_labels, baseline_pred_c))"
      ],
      "metadata": {
        "colab": {
          "base_uri": "https://localhost:8080/",
          "height": 314
        },
        "id": "zPCNRu5dBz4J",
        "outputId": "da32e150-aab2-494c-fe5d-4c2b3091e270"
      },
      "execution_count": 18,
      "outputs": [
        {
          "output_type": "stream",
          "name": "stdout",
          "text": [
            "Precision: 0.8115942028985508\n",
            "Recall: 0.7\n"
          ]
        },
        {
          "output_type": "display_data",
          "data": {
            "text/plain": [
              "<Figure size 432x288 with 2 Axes>"
            ],
            "image/png": "[encoded data removed]"
          },
          "metadata": {
            "needs_background": "light"
          }
        }
      ]
    },
    {
      "cell_type": "markdown",
      "source": [
        "# GraphSAGE Confusion Matrix"
      ],
      "metadata": {
        "id": "z1iVCJPdB5ap"
      }
    },
    {
      "cell_type": "code",
      "source": [
        "pred_c = classify_probabilities(predictions[:, 1], 0.22)\n",
        "ConfusionMatrixDisplay.from_predictions(inductive_labels, pred_c)\n",
        "print(\"Precision:\", precision_score(inductive_labels, pred_c))\n",
        "print(\"Recall:\", recall_score(inductive_labels, pred_c))"
      ],
      "metadata": {
        "colab": {
          "base_uri": "https://localhost:8080/",
          "height": 314
        },
        "id": "WqRioqIwB8YG",
        "outputId": "cad78d75-2463-4241-e5ed-306ec757a163"
      },
      "execution_count": 19,
      "outputs": [
        {
          "output_type": "stream",
          "name": "stdout",
          "text": [
            "Precision: 0.7819314641744548\n",
            "Recall: 0.784375\n"
          ]
        },
        {
          "output_type": "display_data",
          "data": {
            "text/plain": [
              "<Figure size 432x288 with 2 Axes>"
            ],
            "image/png": "[encoded data removed]"
          },
          "metadata": {
            "needs_background": "light"
          }
        }
      ]
    },
    {
      "cell_type": "markdown",
      "source": [
        "## Overlap analysis"
      ],
      "metadata": {
        "id": "RGGawL3WCZVH"
      }
    },
    {
      "cell_type": "code",
      "source": [
        "both_count, both_value, graph_both_count, graph_only_value, baseline_only_count, baseline_only_value, graph_only_count, baseline_only_indexes, graph_only_indexes = tp_overlap_analysis(inductive_labels, baseline_pred_c, pred_c, inductive_graph_data)\n",
        "\n",
        "print(\"Number of overlapping transactions:\", both_count)\n",
        "print(\"Number of baseline only transactions:\", baseline_only_count)\n",
        "print(\"Number of GraphSAGE+features only transactions:\", graph_only_count)\n",
        "print()\n",
        "total_TPs = both_count+baseline_only_count+graph_only_count\n",
        "print(\"Total number of TP transactions identified:\", total_TPs)\n",
        "print(\"Percentage of overlapping transactions:\", 100*both_count/total_TPs)\n",
        "print(\"Percentage of baseline only transactions:\", 100*baseline_only_count/total_TPs)\n",
        "print(\"Percentage of GraphSAGE+Features only transactions:\", 100*graph_only_count/total_TPs)\n",
        "print()\n",
        "print(\"Value of overlapping transactions:\", both_value)\n",
        "print(\"Value of baseline only transactions:\", baseline_only_value)\n",
        "print(\"Value of GraphSAGE+features transactions:\", graph_only_value)\n",
        "print()\n",
        "total_value = both_value+baseline_only_value+graph_only_value\n",
        "print(\"% Value of overlapping transactions:\", 100*both_value/total_value)\n",
        "print(\"% Value of baseline only transactions:\", 100*baseline_only_value/total_value)\n",
        "print(\"% Value of GraphSAGE+features transactions:\", 100*graph_only_value/total_value)\n",
        "print()\n",
        "print(\"Average Value of overlapping transactions:\", both_value/both_count)\n",
        "print(\"Average Value of baseline only transactions:\", baseline_only_value/baseline_only_count)\n",
        "print(\"Average Value of GraphSAGE+features transactions:\", graph_only_value/graph_only_count)"
      ],
      "metadata": {
        "colab": {
          "base_uri": "https://localhost:8080/"
        },
        "id": "UeSUJReyCbd7",
        "outputId": "7328bc70-07df-440b-db4b-dc431142f001"
      },
      "execution_count": 20,
      "outputs": [
        {
          "output_type": "stream",
          "name": "stdout",
          "text": [
            "Number of overlapping transactions: 219\n",
            "Number of baseline only transactions: 5\n",
            "Number of GraphSAGE+features only transactions: 32\n",
            "\n",
            "Total number of TP transactions identified: 256\n",
            "Percentage of overlapping transactions: 85.546875\n",
            "Percentage of baseline only transactions: 1.953125\n",
            "Percentage of GraphSAGE+Features only transactions: 12.5\n",
            "\n",
            "Value of overlapping transactions: 181959.8900000001\n",
            "Value of baseline only transactions: 1585.51\n",
            "Value of GraphSAGE+features transactions: 3754.1099999999997\n",
            "\n",
            "% Value of overlapping transactions: 97.14915431439196\n",
            "% Value of baseline only transactions: 0.8465104900701551\n",
            "% Value of GraphSAGE+features transactions: 2.0043351955378834\n",
            "\n",
            "Average Value of overlapping transactions: 830.8670776255713\n",
            "Average Value of baseline only transactions: 317.102\n",
            "Average Value of GraphSAGE+features transactions: 117.31593749999999\n"
          ]
        }
      ]
    },
    {
      "cell_type": "markdown",
      "source": [
        "# Time step analysis"
      ],
      "metadata": {
        "id": "WqIac9dQzpby"
      }
    },
    {
      "cell_type": "code",
      "source": [
        "graph_predictions = pred_c\n",
        "base_preds = baseline_pred_c\n",
        "\n",
        "\n",
        "# get a list of baseline true positives and of graph true positives\n",
        "baseline_tp = []\n",
        "baseline_time = []\n",
        "graph_tp = []\n",
        "graph_time = []\n",
        "i=0\n",
        "for index, value in inductive_labels.items():\n",
        "  # baseline true positives\n",
        "  if (value == base_preds[i]) and (value == 1):\n",
        "    baseline_tp.append(index)\n",
        "    baseline_time.append(inductive_graph_data.loc[index, \"step\"])\n",
        "  # graph true positives\n",
        "  if value == graph_predictions[i] and value == 1:\n",
        "    graph_tp.append(index)\n",
        "    graph_time.append(inductive_graph_data.loc[index, \"step\"])\n",
        "  i = i+1 \n",
        "\n",
        "\n",
        "for i in range(29,37):\n",
        "  print(\"Baseline count\", i, \":\", baseline_time.count(i))\n",
        "  print(\"GraphSAGE count\", i, \":\", graph_time.count(i))"
      ],
      "metadata": {
        "colab": {
          "base_uri": "https://localhost:8080/"
        },
        "id": "HmWUWpUUzpCq",
        "outputId": "756f66b6-9515-4103-a8bb-5871497e2eee"
      },
      "execution_count": 24,
      "outputs": [
        {
          "output_type": "stream",
          "name": "stdout",
          "text": [
            "Baseline count 29 : 29\n",
            "GraphSAGE count 29 : 33\n",
            "Baseline count 30 : 26\n",
            "GraphSAGE count 30 : 28\n",
            "Baseline count 31 : 29\n",
            "GraphSAGE count 31 : 29\n",
            "Baseline count 32 : 25\n",
            "GraphSAGE count 32 : 33\n",
            "Baseline count 33 : 29\n",
            "GraphSAGE count 33 : 33\n",
            "Baseline count 34 : 30\n",
            "GraphSAGE count 34 : 32\n",
            "Baseline count 35 : 28\n",
            "GraphSAGE count 35 : 32\n",
            "Baseline count 36 : 28\n",
            "GraphSAGE count 36 : 31\n"
          ]
        }
      ]
    }
  ],
  "metadata": {
    "colab": {
      "provenance": [],
      "collapsed_sections": []
    },
    "kernelspec": {
      "display_name": "Python 3",
      "name": "python3"
    },
    "language_info": {
      "name": "python"
    }
  },
  "nbformat": 4,
  "nbformat_minor": 0
}