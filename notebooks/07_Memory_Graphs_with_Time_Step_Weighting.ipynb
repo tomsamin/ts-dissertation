{
  "cells": [
    {
      "cell_type": "code",
      "execution_count": null,
      "metadata": {
        "colab": {
          "base_uri": "https://localhost:8080/"
        },
        "id": "rDjFapQ9Vpsp",
        "outputId": "f62770d0-86cc-49de-a564-930d3f97ec6b"
      },
      "outputs": [
        {
          "name": "stdout",
          "output_type": "stream",
          "text": [
            "Looking in indexes: https://pypi.org/simple, https://us-python.pkg.dev/colab-wheels/public/simple/\n",
            "Requirement already satisfied: networkx in /usr/local/lib/python3.7/dist-packages (2.6.3)\n",
            "Looking in indexes: https://pypi.org/simple, https://us-python.pkg.dev/colab-wheels/public/simple/\n",
            "Requirement already satisfied: scikit-plot in /usr/local/lib/python3.7/dist-packages (0.3.7)\n",
            "Requirement already satisfied: scikit-learn>=0.18 in /usr/local/lib/python3.7/dist-packages (from scikit-plot) (1.0.2)\n",
            "Requirement already satisfied: joblib>=0.10 in /usr/local/lib/python3.7/dist-packages (from scikit-plot) (1.2.0)\n",
            "Requirement already satisfied: matplotlib>=1.4.0 in /usr/local/lib/python3.7/dist-packages (from scikit-plot) (3.2.2)\n",
            "Requirement already satisfied: scipy>=0.9 in /usr/local/lib/python3.7/dist-packages (from scikit-plot) (1.7.3)\n",
            "Requirement already satisfied: python-dateutil>=2.1 in /usr/local/lib/python3.7/dist-packages (from matplotlib>=1.4.0->scikit-plot) (2.8.2)\n",
            "Requirement already satisfied: kiwisolver>=1.0.1 in /usr/local/lib/python3.7/dist-packages (from matplotlib>=1.4.0->scikit-plot) (1.4.4)\n",
            "Requirement already satisfied: pyparsing!=2.0.4,!=2.1.2,!=2.1.6,>=2.0.1 in /usr/local/lib/python3.7/dist-packages (from matplotlib>=1.4.0->scikit-plot) (3.0.9)\n",
            "Requirement already satisfied: cycler>=0.10 in /usr/local/lib/python3.7/dist-packages (from matplotlib>=1.4.0->scikit-plot) (0.11.0)\n",
            "Requirement already satisfied: numpy>=1.11 in /usr/local/lib/python3.7/dist-packages (from matplotlib>=1.4.0->scikit-plot) (1.21.6)\n",
            "Requirement already satisfied: typing-extensions in /usr/local/lib/python3.7/dist-packages (from kiwisolver>=1.0.1->matplotlib>=1.4.0->scikit-plot) (4.1.1)\n",
            "Requirement already satisfied: six>=1.5 in /usr/local/lib/python3.7/dist-packages (from python-dateutil>=2.1->matplotlib>=1.4.0->scikit-plot) (1.15.0)\n",
            "Requirement already satisfied: threadpoolctl>=2.0.0 in /usr/local/lib/python3.7/dist-packages (from scikit-learn>=0.18->scikit-plot) (3.1.0)\n"
          ]
        }
      ],
      "source": [
        "import numpy as np\n",
        "import pandas as pd\n",
        "\n",
        "import torch\n",
        "import torch.nn as nn\n",
        "import torch.nn.functional as F\n",
        "\n",
        "#!pip install stellargraph\n",
        "\n",
        "!pip install networkx\n",
        "import networkx as nx\n",
        "\n",
        "!pip install scikit-plot\n",
        "\n",
        "import sys\n",
        "sys.path.append('/content/drive/MyDrive')\n",
        "from inductiveGRL.graphconstruction import GraphConstruction\n",
        "from inductiveGRL.hinsage import HinSAGE_Representation_Learner\n",
        "from inductiveGRL.hinsage import HinSAGE_Representation_Learner_Memory\n",
        "from inductiveGRL.hinsage import HinSAGE_Representation_Learner_Memory_Time_Weighted\n",
        "import stellargraph as sg\n",
        "\n",
        "from inductiveGRL.evaluation import Evaluation\n",
        "\n",
        "from xgboost import XGBClassifier\n",
        "\n"
      ]
    },
    {
      "cell_type": "markdown",
      "metadata": {
        "id": "H6-benAIUMEj"
      },
      "source": [
        "# 1. Read in data \n",
        "\n",
        "Read in the data and split it into two training and test datasets.\n",
        "\n",
        "The idea is to only keep a short history of the data. You need to train sequentially to learn patterns over time. In other words, for each time window you initialise parameters from the previous time window."
      ]
    },
    {
      "cell_type": "code",
      "execution_count": null,
      "metadata": {
        "id": "QIXtHG_efMLf"
      },
      "outputs": [],
      "source": [
        "data_full = pd.read_csv('/content/drive/MyDrive/AI Dissertation /data/bs140513_032310.csv')\n",
        "data_full[\"index\"] = data_full.index\n",
        "# add a column to data for customer id and merchant id with prefix 1: C and 2: M\n",
        "data_full['merchant_id'] = data_full['merchant'].str.replace(\"M\", '2').str.replace(\"'\", \"\")\n",
        "data_full['customer_id'] = data_full['customer'].str.replace(\"C\", '1').str.replace(\"'\", \"\")\n",
        "data_full['category'] = data_full['category'].str.replace(\"'\", \"\")\n",
        "data_full['age'] = data_full['age'].str.replace(\"'\", \"\")\n",
        "\n",
        "category_oh = pd.get_dummies(data_full['category'], prefix='category')\n",
        "data_full = data_full.join(category_oh)\n",
        "\n",
        "age_oh = pd.get_dummies(data_full['age'], prefix='age')\n",
        "data_full = data_full.join(age_oh)\n",
        "\n",
        "def split_data(data, split_start, split_end):\n",
        "    return data.loc[(data['step'] >= split_start) & (data['step'] <= split_end)]\n",
        "\n",
        "data_train_1 = split_data(data_full, 0, 9)\n",
        "#data_test_1 = split_data(data_full, 10, 15)\n",
        "\n",
        "#data_train_2 = split_data(data_full, 10, 19)\n",
        "#data_test_2 = split_data(data_full, 20, 25)"
      ]
    },
    {
      "cell_type": "markdown",
      "metadata": {
        "id": "WJq-HP6fX8iT"
      },
      "source": [
        "## 1.2 Form the Graph"
      ]
    },
    {
      "cell_type": "code",
      "execution_count": null,
      "metadata": {
        "id": "MS3tgJbRWd2Z"
      },
      "outputs": [],
      "source": [
        "def data_to_graph(dataset):\n",
        "  ### nodes\n",
        "  #node_customers = pd.DataFrame([1]*len(dataset.customer_id.unique())).set_index(dataset.customer_id.unique())\n",
        "  node_customers = dataset[[\"step\", \"customer_id\", \"age_0\", \"age_1\", \"age_2\", \"age_3\", \"age_4\", \"age_5\", \"age_6\", \"age_U\"]].drop_duplicates(subset=[\"customer_id\"], keep='first').set_index(\"customer_id\")\n",
        "  #print(node_customers)\n",
        "  #print(node_customers.loc['11389311354'])\n",
        "  node_merchants = pd.DataFrame([1]*len(dataset.merchant_id.unique())).set_index(dataset.merchant_id.unique())\n",
        "\n",
        "  # transaction node data\n",
        "  node_txns = dataset[[\"step\", \"amount\", \"category_es_home\", \"category_es_hotelservices\", \"category_es_hyper\", \"category_es_leisure\", \n",
        "                       \"category_es_otherservices\", \"category_es_sportsandtoys\", \"category_es_tech\", \"category_es_transportation\", \n",
        "                       \"category_es_travel\", \"category_es_wellnessandbeauty\", \"index\"]]\n",
        "\n",
        "  ### edges\n",
        "  # customer to transaction edges\n",
        "  edge_customer = dataset[[\"customer_id\", \"index\"]]\n",
        "\n",
        "  # transaction to merchant edges\n",
        "  edge_merchant = dataset[[\"index\", \"merchant_id\"]]\n",
        "\n",
        "  nodes = {\"customer\":dataset.customer_id, \"merchant\":dataset.merchant_id, \"transaction\":dataset.index}\n",
        "  edges = [zip(edge_customer.customer_id, edge_customer.index),zip(edge_merchant.index, edge_merchant.merchant_id)]\n",
        "  features = {\"transaction\": node_txns, 'customer': node_customers, 'merchant': node_merchants}\n",
        "\n",
        "  graph = GraphConstruction(nodes, edges, features)\n",
        "  S = graph.get_stellargraph()\n",
        "  return S\n",
        "\n",
        "S_1 = data_to_graph(data_train_1)\n",
        "#S_2 = data_to_graph(data_train_2)\n",
        "#print(S.info())\n",
        "\n",
        "## Inductive graph data is train + test data\n",
        "#inductive_graph_data_1 = pd.concat((data_train_1, data_test_1))\n",
        "#S_ind_1 = data_to_graph(inductive_graph_data_1)\n",
        "\n",
        "#inductive_graph_data_2 = pd.concat((data_train_2, data_test_2))\n",
        "#S_ind_2 = data_to_graph(inductive_graph_data_2)\n",
        "#print(S_ind.info())"
      ]
    },
    {
      "cell_type": "markdown",
      "metadata": {
        "id": "3pUasfMcNnwB"
      },
      "source": [
        "## 1.3 Function that trains and evaluates GraphSAGE for Time window"
      ]
    },
    {
      "cell_type": "code",
      "execution_count": null,
      "metadata": {
        "id": "flBFQnRgIjIB"
      },
      "outputs": [],
      "source": [
        "def train_and_evaluate(start_train_time_step, end_train_time_step, start_test_time_step, end_test_time_step, epochs=1):\n",
        "  data_train = split_data(data_full, start_train_time_step, end_train_time_step)\n",
        "  data_test = split_data(data_full, start_test_time_step, end_test_time_step)\n",
        "\n",
        "  S = data_to_graph(data_train)\n",
        "\n",
        "  ## Inductive graph data is train + test data\n",
        "  inductive_graph_data = pd.concat((data_train, data_test))\n",
        "  S_ind = data_to_graph(inductive_graph_data)\n",
        "\n",
        "  trained_hinsage_model, train_emb = hinsage.train_hinsage(S, list(data_train.index), data_train['fraud'], batch_size=5, epochs=epochs)\n",
        "\n",
        "  inductive_emb = hinsage.inductive_step_hinsage(S_ind, trained_hinsage_model, data_test.index, batch_size=5)\n",
        "  train_labels = data_train['fraud']\n",
        "\n",
        "  add_additional_data = True\n",
        "\n",
        "  classifier = XGBClassifier(n_estimators=100)\n",
        "\n",
        "  if add_additional_data is True:\n",
        "      train_emb_m = pd.merge(train_emb, data_train[[\"amount\", \"age_0\", \"age_1\", \"age_2\", \"age_3\", \"age_4\", \"age_5\", \"age_6\", \"age_U\", \"category_es_home\", \"category_es_hotelservices\", \"category_es_hyper\", \"category_es_leisure\", \"category_es_otherservices\", \"category_es_sportsandtoys\", \"category_es_tech\", \"category_es_transportation\", \"category_es_travel\", \"category_es_wellnessandbeauty\"]], left_index=True, right_index=True)\n",
        "      inductive_emb_m = pd.merge(inductive_emb, data_test[[\"amount\", \"age_0\", \"age_1\", \"age_2\", \"age_3\", \"age_4\", \"age_5\", \"age_6\", \"age_U\", \"category_es_home\", \"category_es_hotelservices\", \"category_es_hyper\", \"category_es_leisure\", \"category_es_otherservices\", \"category_es_sportsandtoys\", \"category_es_tech\", \"category_es_transportation\", \"category_es_travel\", \"category_es_wellnessandbeauty\"]], left_index=True, right_index=True)\n",
        "\n",
        "      baseline_train = data_train[[\"amount\", \"age_0\", \"age_1\", \"age_2\", \"age_3\", \"age_4\", \"age_5\", \"age_6\", \"age_U\", \"category_es_home\", \"category_es_hotelservices\", \"category_es_hyper\", \"category_es_leisure\", \"category_es_otherservices\", \"category_es_sportsandtoys\", \"category_es_tech\", \"category_es_transportation\", \"category_es_travel\", \"category_es_wellnessandbeauty\"]]\n",
        "      baseline_inductive = data_test[[\"amount\", \"age_0\", \"age_1\", \"age_2\", \"age_3\", \"age_4\", \"age_5\", \"age_6\", \"age_U\", \"category_es_home\", \"category_es_hotelservices\", \"category_es_hyper\", \"category_es_leisure\", \"category_es_otherservices\", \"category_es_sportsandtoys\", \"category_es_tech\", \"category_es_transportation\", \"category_es_travel\", \"category_es_wellnessandbeauty\"]]\n",
        "\n",
        "      classifier.fit(baseline_train, train_labels)\n",
        "      baseline_predictions = classifier.predict_proba(baseline_inductive)\n",
        "\n",
        "      classifier.fit(train_emb_m, train_labels)\n",
        "      predictions = classifier.predict_proba(inductive_emb_m)\n",
        "      \n",
        "  else:\n",
        "    classifier.fit(train_emb, train_labels)\n",
        "    predictions = classifier.predict_proba(inductive_emb)\n",
        "\n",
        "  inductive_labels = data_full.loc[inductive_emb.index]['fraud']\n",
        "\n",
        "  graphsage_evaluation = Evaluation(predictions, inductive_labels, \"GraphSAGE+features\") \n",
        "  graphsage_evaluation.pr_curve()\n",
        "\n",
        "  if add_additional_data is True:\n",
        "      baseline_evaluation = Evaluation(baseline_predictions, inductive_labels, \"Baseline\")\n",
        "      baseline_evaluation.pr_curve()\n",
        "  \n",
        "  return inductive_labels, baseline_predictions, predictions\n"
      ]
    },
    {
      "cell_type": "markdown",
      "metadata": {
        "id": "_TtFlIVDYAJT"
      },
      "source": [
        "# 2 Train and evealuate the model on first time step\n",
        "\n",
        "Initialise the model and then run train and evaluate function."
      ]
    },
    {
      "cell_type": "code",
      "execution_count": null,
      "metadata": {
        "colab": {
          "base_uri": "https://localhost:8080/"
        },
        "id": "oVw_8PR_AsDE",
        "outputId": "4260324d-f601-4a10-ccb5-7c7dab3d4c9d"
      },
      "outputs": [
        {
          "name": "stdout",
          "output_type": "stream",
          "text": [
            "[1 2 3 4] True\n",
            "True\n",
            "[(1, 5), (2, 6), (3, 7), (4, 8)]\n",
            "[1, 2]\n",
            "[5, 6]\n"
          ]
        }
      ],
      "source": [
        "adj = np.array([1,2,3,4])\n",
        "\n",
        "print(adj, adj.dtype == 'int64')\n",
        "\n",
        "left_zip = [1,2,3,4]\n",
        "right_zip = [5,6,7,8]\n",
        "\n",
        "zip_list = list(zip(left_zip, right_zip))\n",
        "\n",
        "print(all(isinstance(node_id, tuple) for node_id in zip_list))\n",
        "\n",
        "print(zip_list)\n",
        "neigh_et = [node_neigh_et for node_neigh_et, neigh_et_step in zip_list if neigh_et_step <= 6]\n",
        "neigh_et_steps = [neigh_et_step for node_neigh_et, neigh_et_step in zip_list if neigh_et_step <= 6]\n",
        "\n",
        "print(neigh_et)\n",
        "print(neigh_et_steps)"
      ]
    },
    {
      "cell_type": "code",
      "execution_count": null,
      "metadata": {
        "colab": {
          "base_uri": "https://localhost:8080/",
          "height": 487
        },
        "id": "2rNezEEOYDna",
        "outputId": "9af891ac-5a85-4b05-8265-18f2a2db3d51"
      },
      "outputs": [
        {
          "name": "stderr",
          "output_type": "stream",
          "text": [
            "/content/drive/MyDrive/stellargraph/data/explorer.py:1499: RuntimeWarning: invalid value encountered in true_divide\n",
            "  samples = rs.choices(neigh_et, weights=neigh_et_steps/sum(neigh_et_steps), k=n_size[depth - 1])\n"
          ]
        },
        {
          "name": "stdout",
          "output_type": "stream",
          "text": [
            "Epoch 1/3\n",
            "13340/13340 [==============================] - 1477s 110ms/step - loss: 0.0634 - val_loss: 0.0466\n",
            "Epoch 2/3\n",
            "13340/13340 [==============================] - 1460s 109ms/step - loss: 0.0323 - val_loss: 0.0242\n",
            "Epoch 3/3\n",
            "13340/13340 [==============================] - 1453s 109ms/step - loss: 0.0279 - val_loss: 0.0195\n",
            "16675/16675 [==============================] - 1448s 87ms/step\n",
            "5953/5953 [==============================] - 627s 105ms/step\n",
            "Average precision-recall score XGBoost: 0.8754311582\n",
            "Average precision-recall score XGBoost: 0.8420009173\n"
          ]
        },
        {
          "data": {
            "image/png": "[encoded data removed]",
            "text/plain": [
              "<Figure size 432x288 with 1 Axes>"
            ]
          },
          "metadata": {},
          "output_type": "display_data"
        }
      ],
      "source": [
        "num_samples = [2, 5]\n",
        "embedding_node_type = \"transaction\"\n",
        "\n",
        "hinsage = HinSAGE_Representation_Learner_Memory_Time_Weighted(embedding_size=64, num_samples=num_samples, \n",
        "                                                              embedding_for_node_type=embedding_node_type, S=S_1, batch_size=5)\n",
        "\n",
        "inductive_labels, baseline_predictions, predictions = train_and_evaluate(start_train_time_step=0, end_train_time_step=30, \n",
        "                                                                         start_test_time_step=31, end_test_time_step=40, epochs=3)"
      ]
    },
    {
      "cell_type": "markdown",
      "metadata": {
        "id": "zWCF0q1FZZFw"
      },
      "source": [
        "## 2.1 Train and evaluate the model on the second time step\n",
        "\n"
      ]
    },
    {
      "cell_type": "code",
      "execution_count": null,
      "metadata": {
        "colab": {
          "base_uri": "https://localhost:8080/",
          "height": 453
        },
        "id": "hgTHW-QmZZGW",
        "outputId": "20245878-08d9-4791-84d6-a63bc7422558"
      },
      "outputs": [
        {
          "name": "stdout",
          "output_type": "stream",
          "text": [
            "Epoch 1/3\n",
            "14653/14653 [==============================] - 1523s 104ms/step - loss: 0.0299 - val_loss: 0.0230\n",
            "Epoch 2/3\n",
            "14653/14653 [==============================] - 1516s 103ms/step - loss: 0.0266 - val_loss: 0.0184\n",
            "Epoch 3/3\n",
            "14653/14653 [==============================] - 1512s 103ms/step - loss: 0.0249 - val_loss: 0.0401\n",
            "18316/18316 [==============================] - 1508s 82ms/step\n",
            "6436/6436 [==============================] - 697s 108ms/step\n",
            "Average precision-recall score XGBoost: 0.8456640256\n",
            "Average precision-recall score XGBoost: 0.7914412412\n"
          ]
        },
        {
          "data": {
            "image/png": "[encoded data removed]",
            "text/plain": [
              "<Figure size 432x288 with 1 Axes>"
            ]
          },
          "metadata": {},
          "output_type": "display_data"
        }
      ],
      "source": [
        "inductive_labels, baseline_predictions, predictions = train_and_evaluate(start_train_time_step=31, end_train_time_step=60, \n",
        "                                                                         start_test_time_step=61, end_test_time_step=70, epochs=3)"
      ]
    },
    {
      "cell_type": "markdown",
      "metadata": {
        "id": "badPNY4TIebU"
      },
      "source": [
        "## 2.2 Train the model on third time step"
      ]
    },
    {
      "cell_type": "code",
      "execution_count": null,
      "metadata": {
        "colab": {
          "base_uri": "https://localhost:8080/"
        },
        "id": "xKKlDDWxKV1I",
        "outputId": "ec057c70-23ba-48c7-ccb4-bf8bfff60a46"
      },
      "outputs": [
        {
          "name": "stdout",
          "output_type": "stream",
          "text": [
            "Epoch 1/3\n",
            "15833/15833 [==============================] - 1767s 112ms/step - loss: 0.0283 - val_loss: 0.0219\n",
            "Epoch 2/3\n",
            "15833/15833 [==============================] - 1777s 112ms/step - loss: 0.0254 - val_loss: 0.0133\n",
            "Epoch 3/3\n",
            "15833/15833 [==============================] - 1776s 112ms/step - loss: 0.0241 - val_loss: 0.0244\n",
            "19791/19791 [==============================] - 1769s 89ms/step\n",
            "6864/6864 [==============================] - 841s 123ms/step\n",
            "Average precision-recall score XGBoost: 0.8404919906\n",
            "Average precision-recall score XGBoost: 0.7847471084\n"
          ]
        },
        {
          "data": {
            "image/png": "[encoded data removed]",
            "text/plain": [
              "<Figure size 432x288 with 1 Axes>"
            ]
          },
          "metadata": {},
          "output_type": "display_data"
        }
      ],
      "source": [
        "inductive_labels, baseline_predictions, predictions = train_and_evaluate(start_train_time_step=61, end_train_time_step=90, \n",
        "                                                                         start_test_time_step=91, end_test_time_step=100, epochs=3)"
      ]
    },
    {
      "cell_type": "markdown",
      "metadata": {
        "id": "tmqwLhIdgIYj"
      },
      "source": [
        "# 3 Train and evealuate the models independently on each time step\n",
        "\n",
        "Initialise the model and then run train and evaluate  for each time step to compare to those trained sequentially."
      ]
    },
    {
      "cell_type": "code",
      "execution_count": null,
      "metadata": {
        "colab": {
          "background_save": true,
          "base_uri": "https://localhost:8080/"
        },
        "id": "T_afazX0gIY3",
        "outputId": "5209115b-b1dc-4b97-e4eb-ac21b6493820"
      },
      "outputs": [
        {
          "name": "stdout",
          "output_type": "stream",
          "text": [
            "Epoch 1/5\n"
          ]
        },
        {
          "name": "stderr",
          "output_type": "stream",
          "text": [
            "/content/drive/MyDrive/stellargraph/data/explorer.py:1499: RuntimeWarning: invalid value encountered in true_divide\n",
            "  samples = rs.choices(neigh_et, weights=neigh_et_steps/sum(neigh_et_steps), k=n_size[depth - 1])\n"
          ]
        },
        {
          "name": "stdout",
          "output_type": "stream",
          "text": [
            "13340/13340 [==============================] - 1433s 107ms/step - loss: 0.0647 - val_loss: 0.0463\n",
            "Epoch 2/5\n",
            "13340/13340 [==============================] - 1424s 107ms/step - loss: 0.0319 - val_loss: 0.0241\n",
            "Epoch 3/5\n",
            "13340/13340 [==============================] - 1423s 107ms/step - loss: 0.0286 - val_loss: 0.0270\n",
            "Epoch 4/5\n",
            "13340/13340 [==============================] - 1429s 107ms/step - loss: 0.0269 - val_loss: 0.0481\n",
            "Epoch 5/5\n",
            "13340/13340 [==============================] - 1406s 105ms/step - loss: 0.0263 - val_loss: 0.0363\n",
            "16675/16675 [==============================] - 1442s 86ms/step\n",
            "5953/5953 [==============================] - 636s 107ms/step\n",
            "Average precision-recall score XGBoost: 0.8741872573\n",
            "Average precision-recall score XGBoost: 0.8420009173\n"
          ]
        },
        {
          "data": {
            "image/png": "[encoded data removed]",
            "text/plain": [
              "<Figure size 432x288 with 1 Axes>"
            ]
          },
          "metadata": {},
          "output_type": "display_data"
        }
      ],
      "source": [
        "num_samples = [2, 5]\n",
        "embedding_node_type = \"transaction\"\n",
        "\n",
        "hinsage = HinSAGE_Representation_Learner_Memory_Time_Weighted(embedding_size=64, num_samples=num_samples, embedding_for_node_type=embedding_node_type, S=S_1,\n",
        "                                                batch_size=5)\n",
        "\n",
        "inductive_labels, baseline_predictions, predictions = train_and_evaluate(start_train_time_step=0, end_train_time_step=30, \n",
        "                                                                         start_test_time_step=31, end_test_time_step=40, epochs=5)"
      ]
    },
    {
      "cell_type": "markdown",
      "metadata": {
        "id": "rf4s8sP_gIY8"
      },
      "source": [
        "## 3.1 Train and evaluate the model on the second time step\n",
        "\n"
      ]
    },
    {
      "cell_type": "code",
      "execution_count": null,
      "metadata": {
        "id": "bL4Z1kvegIY9"
      },
      "outputs": [],
      "source": [
        "hinsage = HinSAGE_Representation_Learner_Memory_Time_Weighted(embedding_size=64, num_samples=num_samples, embedding_for_node_type=embedding_node_type, S=S_1,\n",
        "                                                batch_size=5)\n",
        "\n",
        "inductive_labels, baseline_predictions, predictions = train_and_evaluate(start_train_time_step=31, end_train_time_step=60, \n",
        "                                                                         start_test_time_step=61, end_test_time_step=70, epochs=5)"
      ]
    },
    {
      "cell_type": "markdown",
      "metadata": {
        "id": "bAHUTbN5gIY_"
      },
      "source": [
        "## 3.2 Train the model on third time step"
      ]
    },
    {
      "cell_type": "code",
      "execution_count": null,
      "metadata": {
        "id": "gcYb91QFgIZA"
      },
      "outputs": [],
      "source": [
        "hinsage = HinSAGE_Representation_Learner_Memory_Time_Weighted(embedding_size=64, num_samples=num_samples, embedding_for_node_type=embedding_node_type, S=S_1,\n",
        "                                                batch_size=5)\n",
        "\n",
        "inductive_labels, baseline_predictions, predictions = train_and_evaluate(start_train_time_step=61, end_train_time_step=90, \n",
        "                                                                         start_test_time_step=91, end_test_time_step=100, epochs=5)"
      ]
    },
    {
      "cell_type": "markdown",
      "metadata": {
        "id": "zPqxcXPngl4V"
      },
      "source": [
        "# 4 Confusion Matrices"
      ]
    },
    {
      "cell_type": "code",
      "execution_count": null,
      "metadata": {
        "id": "RNPqic76NyLB"
      },
      "outputs": [],
      "source": [
        "from sklearn.metrics import ConfusionMatrixDisplay\n",
        "from sklearn.metrics import precision_score\n",
        "from sklearn.metrics import recall_score\n",
        "\n",
        "print(\"Baseline:\")\n",
        "ConfusionMatrixDisplay.from_predictions(inductive_labels, np.argmax(baseline_predictions, axis=1))\n",
        "print(\"Precision:\", precision_score(inductive_labels, np.argmax(baseline_predictions, axis=1)))\n",
        "print(\"Recall:\", recall_score(inductive_labels, np.argmax(baseline_predictions, axis=1)))\n",
        "\n",
        "print(\"GraphSAGE:\")\n",
        "ConfusionMatrixDisplay.from_predictions(inductive_labels, np.argmax(predictions, axis=1))\n",
        "print(\"Precision:\", precision_score(inductive_labels, np.argmax(predictions, axis=1)))\n",
        "print(\"Recall:\", recall_score(inductive_labels, np.argmax(predictions, axis=1)))"
      ]
    },
    {
      "cell_type": "code",
      "execution_count": null,
      "metadata": {
        "id": "ItF5aP9jKLcG"
      },
      "outputs": [],
      "source": [
        "def classify_probabilities(prediction_probs, decision_boundary):\n",
        "  pred_c = []\n",
        "  for p in prediction_probs:\n",
        "    if p > decision_boundary:\n",
        "      pred_c.append(1)\n",
        "    else:\n",
        "      pred_c.append(0)\n",
        "  return pred_c\n",
        "\n",
        "print(\"Baseline\")\n",
        "baseline_pred_c = classify_probabilities(baseline_predictions[:, 1], 0.3)\n",
        "ConfusionMatrixDisplay.from_predictions(inductive_labels, baseline_pred_c)\n",
        "print(\"Precision:\", precision_score(inductive_labels, baseline_pred_c))\n",
        "print(\"Recall:\", recall_score(inductive_labels, baseline_pred_c))\n",
        "\n",
        "print()\n",
        "print(\"GraphSAGE\")\n",
        "pred_c = classify_probabilities(predictions[:, 1], 0.23)\n",
        "ConfusionMatrixDisplay.from_predictions(inductive_labels, pred_c)\n",
        "print(\"Precision:\", precision_score(inductive_labels, pred_c))\n",
        "print(\"Recall:\", recall_score(inductive_labels, pred_c))"
      ]
    }
  ],
  "metadata": {
    "accelerator": "GPU",
    "colab": {
      "provenance": []
    },
    "gpuClass": "standard",
    "kernelspec": {
      "display_name": "Python 3",
      "name": "python3"
    },
    "language_info": {
      "name": "python"
    }
  },
  "nbformat": 4,
  "nbformat_minor": 0
}