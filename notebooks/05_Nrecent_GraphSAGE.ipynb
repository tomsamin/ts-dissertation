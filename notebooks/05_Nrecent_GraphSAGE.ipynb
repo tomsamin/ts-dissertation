{
  "cells": [
    {
      "cell_type": "code",
      "execution_count": 1,
      "metadata": {
        "colab": {
          "base_uri": "https://localhost:8080/"
        },
        "id": "rDjFapQ9Vpsp",
        "outputId": "1cc6ff28-1358-41ab-b061-2c6a4b639754"
      },
      "outputs": [
        {
          "output_type": "stream",
          "name": "stdout",
          "text": [
            "Looking in indexes: https://pypi.org/simple, https://us-python.pkg.dev/colab-wheels/public/simple/\n",
            "Requirement already satisfied: networkx in /usr/local/lib/python3.7/dist-packages (2.6.3)\n",
            "Looking in indexes: https://pypi.org/simple, https://us-python.pkg.dev/colab-wheels/public/simple/\n",
            "Requirement already satisfied: scikit-plot in /usr/local/lib/python3.7/dist-packages (0.3.7)\n",
            "Requirement already satisfied: matplotlib>=1.4.0 in /usr/local/lib/python3.7/dist-packages (from scikit-plot) (3.2.2)\n",
            "Requirement already satisfied: scipy>=0.9 in /usr/local/lib/python3.7/dist-packages (from scikit-plot) (1.7.3)\n",
            "Requirement already satisfied: joblib>=0.10 in /usr/local/lib/python3.7/dist-packages (from scikit-plot) (1.2.0)\n",
            "Requirement already satisfied: scikit-learn>=0.18 in /usr/local/lib/python3.7/dist-packages (from scikit-plot) (1.0.2)\n",
            "Requirement already satisfied: kiwisolver>=1.0.1 in /usr/local/lib/python3.7/dist-packages (from matplotlib>=1.4.0->scikit-plot) (1.4.4)\n",
            "Requirement already satisfied: pyparsing!=2.0.4,!=2.1.2,!=2.1.6,>=2.0.1 in /usr/local/lib/python3.7/dist-packages (from matplotlib>=1.4.0->scikit-plot) (3.0.9)\n",
            "Requirement already satisfied: python-dateutil>=2.1 in /usr/local/lib/python3.7/dist-packages (from matplotlib>=1.4.0->scikit-plot) (2.8.2)\n",
            "Requirement already satisfied: cycler>=0.10 in /usr/local/lib/python3.7/dist-packages (from matplotlib>=1.4.0->scikit-plot) (0.11.0)\n",
            "Requirement already satisfied: numpy>=1.11 in /usr/local/lib/python3.7/dist-packages (from matplotlib>=1.4.0->scikit-plot) (1.21.6)\n",
            "Requirement already satisfied: typing-extensions in /usr/local/lib/python3.7/dist-packages (from kiwisolver>=1.0.1->matplotlib>=1.4.0->scikit-plot) (4.1.1)\n",
            "Requirement already satisfied: six>=1.5 in /usr/local/lib/python3.7/dist-packages (from python-dateutil>=2.1->matplotlib>=1.4.0->scikit-plot) (1.15.0)\n",
            "Requirement already satisfied: threadpoolctl>=2.0.0 in /usr/local/lib/python3.7/dist-packages (from scikit-learn>=0.18->scikit-plot) (3.1.0)\n"
          ]
        }
      ],
      "source": [
        "import numpy as np\n",
        "import pandas as pd\n",
        "\n",
        "import torch\n",
        "import torch.nn as nn\n",
        "import torch.nn.functional as F\n",
        "\n",
        "#!pip install stellargraph\n",
        "\n",
        "!pip install networkx\n",
        "import networkx as nx\n",
        "\n",
        "!pip install scikit-plot\n",
        "\n",
        "import sys\n",
        "sys.path.append('/content/drive/MyDrive')\n",
        "from inductiveGRL.graphconstruction import GraphConstruction\n",
        "from inductiveGRL.hinsage import HinSAGE_Representation_Learner, HinSAGE_Representation_Learner_Ind_TB, HinSAGE_Representation_Learner_Nrecent\n",
        "import stellargraph as sg\n"
      ]
    },
    {
      "cell_type": "markdown",
      "metadata": {
        "id": "H6-benAIUMEj"
      },
      "source": [
        "# 1. Read in data \n",
        "\n",
        "Read in the data and split it into training and test datasets."
      ]
    },
    {
      "cell_type": "code",
      "execution_count": 2,
      "metadata": {
        "id": "QIXtHG_efMLf"
      },
      "outputs": [],
      "source": [
        "data_full = pd.read_csv('/content/drive/MyDrive/AI Dissertation /data/bs140513_032310.csv')\n",
        "data_full[\"index\"] = data_full.index\n",
        "# add a column to data for customer id and merchant id with prefix 1: C and 2: M\n",
        "data_full['merchant_id'] = data_full['merchant'].str.replace(\"M\", '2').str.replace(\"'\", \"\")\n",
        "data_full['customer_id'] = data_full['customer'].str.replace(\"C\", '1').str.replace(\"'\", \"\")\n",
        "data_full['category'] = data_full['category'].str.replace(\"'\", \"\")\n",
        "data_full['age'] = data_full['age'].str.replace(\"'\", \"\")\n",
        "\n",
        "category_oh = pd.get_dummies(data_full['category'], prefix='category')\n",
        "data_full = data_full.join(category_oh)\n",
        "\n",
        "age_oh = pd.get_dummies(data_full['age'], prefix='age')\n",
        "data_full = data_full.join(age_oh)\n",
        "\n",
        "def split_data(data, split_start, split_end):\n",
        "    return data.loc[(data['step'] >= split_start) & (data['step'] <= split_end)]\n",
        "\n",
        "data_train = split_data(data_full, 0, 30)\n",
        "data_test = split_data(data_full, 31, 40)\n"
      ]
    },
    {
      "cell_type": "markdown",
      "metadata": {
        "id": "WJq-HP6fX8iT"
      },
      "source": [
        "## 1.2 Form the Graph"
      ]
    },
    {
      "cell_type": "code",
      "execution_count": 3,
      "metadata": {
        "id": "MS3tgJbRWd2Z"
      },
      "outputs": [],
      "source": [
        "def data_to_graph(dataset):\n",
        "  ### nodes\n",
        "  #node_customers = pd.DataFrame([1]*len(dataset.customer_id.unique())).set_index(dataset.customer_id.unique())\n",
        "  node_customers = dataset[[\"step\", \"customer_id\", \"age_0\", \"age_1\", \"age_2\", \"age_3\", \"age_4\", \"age_5\", \"age_6\", \"age_U\"]].drop_duplicates(subset=[\"customer_id\"]).set_index(\"customer_id\")\n",
        "  #print(node_customers.loc[\"1369566106\"])\n",
        "  node_merchants = pd.DataFrame([1]*len(dataset.merchant_id.unique())).set_index(dataset.merchant_id.unique())\n",
        "\n",
        "  # transaction node data\n",
        "  node_txns = dataset[[\"step\", \"amount\", \"category_es_home\", \"category_es_hotelservices\", \"category_es_hyper\", \"category_es_leisure\", \n",
        "                       \"category_es_otherservices\", \"category_es_sportsandtoys\", \"category_es_tech\", \"category_es_transportation\", \n",
        "                       \"category_es_travel\", \"category_es_wellnessandbeauty\", \"index\"]]\n",
        "\n",
        "  ### edges\n",
        "  # customer to transaction edges\n",
        "  edge_customer = dataset[[\"customer_id\", \"index\"]]\n",
        "\n",
        "  # transaction to merchant edges\n",
        "  edge_merchant = dataset[[\"index\", \"merchant_id\"]]\n",
        "\n",
        "  nodes = {\"customer\":dataset.customer_id, \"merchant\":dataset.merchant_id, \"transaction\":dataset.index}\n",
        "  edges = [zip(edge_customer.customer_id, edge_customer.index), zip(edge_merchant.index, edge_merchant.merchant_id)]\n",
        "  features = {\"transaction\": node_txns, 'customer': node_customers, 'merchant': node_merchants}\n",
        "\n",
        "  graph = GraphConstruction(nodes, edges, features)\n",
        "  S = graph.get_stellargraph()\n",
        "  return S\n",
        "\n",
        "S = data_to_graph(data_train)\n",
        "#print(S.info())\n",
        "\n",
        "## Inductive graph data is train + test data\n",
        "inductive_graph_data = pd.concat((data_train, data_test))\n",
        "S_ind = data_to_graph(inductive_graph_data)\n",
        "#print(S_ind.info())"
      ]
    },
    {
      "cell_type": "markdown",
      "metadata": {
        "id": "_TtFlIVDYAJT"
      },
      "source": [
        "# 2. Train the model\n"
      ]
    },
    {
      "cell_type": "code",
      "execution_count": 4,
      "metadata": {
        "colab": {
          "base_uri": "https://localhost:8080/"
        },
        "id": "MKAL6jgTKbdF",
        "outputId": "13683c4b-2eac-4a9a-b1eb-99f5a84b27a4"
      },
      "outputs": [
        {
          "output_type": "stream",
          "name": "stderr",
          "text": [
            "/usr/local/lib/python3.7/dist-packages/keras/optimizers/optimizer_v2/adam.py:110: UserWarning: The `lr` argument is deprecated, use `learning_rate` instead.\n",
            "  super(Adam, self).__init__(name, **kwargs)\n"
          ]
        },
        {
          "output_type": "stream",
          "name": "stdout",
          "text": [
            "13340/13340 [==============================] - 5502s 412ms/step - loss: 0.0580 - val_loss: 0.0452\n",
            "16675/16675 [==============================] - 5427s 325ms/step\n"
          ]
        }
      ],
      "source": [
        "num_samples = [2, 5]\n",
        "embedding_node_type = \"transaction\"\n",
        "\n",
        "hinsage = HinSAGE_Representation_Learner_Nrecent(64, num_samples, embedding_node_type)\n",
        "trained_hinsage_model, train_emb = hinsage.train_hinsage(S, list(data_train.index), data_train['fraud'], batch_size=5, epochs=1)"
      ]
    },
    {
      "cell_type": "markdown",
      "metadata": {
        "id": "NdVCPttDYVir"
      },
      "source": [
        "# 3. Inductive Step\n"
      ]
    },
    {
      "cell_type": "code",
      "execution_count": 5,
      "metadata": {
        "id": "3KzBWqDeHpsR",
        "colab": {
          "base_uri": "https://localhost:8080/"
        },
        "outputId": "c7d5996e-93e2-4249-bce4-598369bcab6a"
      },
      "outputs": [
        {
          "output_type": "stream",
          "name": "stdout",
          "text": [
            "5953/5953 [==============================] - 656s 110ms/step\n"
          ]
        }
      ],
      "source": [
        "inductive_emb = hinsage.inductive_step_hinsage(S_ind, trained_hinsage_model, data_test.index, batch_size=5)"
      ]
    },
    {
      "cell_type": "markdown",
      "metadata": {
        "id": "qU4XiF21HpsU"
      },
      "source": [
        "### 4. Classification: predictions based on inductive embeddings"
      ]
    },
    {
      "cell_type": "markdown",
      "metadata": {
        "id": "YD6cZUBJHpsU"
      },
      "source": [
        "Select your preferred classification model"
      ]
    },
    {
      "cell_type": "code",
      "execution_count": 6,
      "metadata": {
        "id": "yR3Y0utZHpsV"
      },
      "outputs": [],
      "source": [
        "from xgboost import XGBClassifier\n",
        "classifier = XGBClassifier(n_estimators=100)"
      ]
    },
    {
      "cell_type": "markdown",
      "metadata": {
        "id": "8VRm3HOhHpsY"
      },
      "source": [
        "If requested, the original transaction features are added to the generated embeddings. If these features are added, a baseline consisting of only these features (without embeddings) is included to analyze the net impact of embeddings on the predictive performance."
      ]
    },
    {
      "cell_type": "code",
      "execution_count": 7,
      "metadata": {
        "id": "PUS6wpHxHpsY"
      },
      "outputs": [],
      "source": [
        "train_labels = data_train['fraud']\n",
        "\n",
        "add_additional_data = True\n",
        "\n",
        "if add_additional_data is True:\n",
        "    train_emb_m = pd.merge(train_emb, data_train[[\"amount\", \"age_0\", \"age_1\", \"age_2\", \"age_3\", \"age_4\", \"age_5\", \"age_6\", \"age_U\", \"category_es_home\", \"category_es_hotelservices\", \"category_es_hyper\", \"category_es_leisure\", \"category_es_otherservices\", \"category_es_sportsandtoys\", \"category_es_tech\", \"category_es_transportation\", \"category_es_travel\", \"category_es_wellnessandbeauty\"]], left_index=True, right_index=True)\n",
        "    inductive_emb_m = pd.merge(inductive_emb, data_test[[\"amount\", \"age_0\", \"age_1\", \"age_2\", \"age_3\", \"age_4\", \"age_5\", \"age_6\", \"age_U\", \"category_es_home\", \"category_es_hotelservices\", \"category_es_hyper\", \"category_es_leisure\", \"category_es_otherservices\", \"category_es_sportsandtoys\", \"category_es_tech\", \"category_es_transportation\", \"category_es_travel\", \"category_es_wellnessandbeauty\"]], left_index=True, right_index=True)\n",
        "\n",
        "    baseline_train = data_train[[\"amount\", \"age_0\", \"age_1\", \"age_2\", \"age_3\", \"age_4\", \"age_5\", \"age_6\", \"age_U\", \"category_es_home\", \"category_es_hotelservices\", \"category_es_hyper\", \"category_es_leisure\", \"category_es_otherservices\", \"category_es_sportsandtoys\", \"category_es_tech\", \"category_es_transportation\", \"category_es_travel\", \"category_es_wellnessandbeauty\"]]\n",
        "    baseline_inductive = data_test[[\"amount\", \"age_0\", \"age_1\", \"age_2\", \"age_3\", \"age_4\", \"age_5\", \"age_6\", \"age_U\", \"category_es_home\", \"category_es_hotelservices\", \"category_es_hyper\", \"category_es_leisure\", \"category_es_otherservices\", \"category_es_sportsandtoys\", \"category_es_tech\", \"category_es_transportation\", \"category_es_travel\", \"category_es_wellnessandbeauty\"]]\n",
        "\n",
        "    classifier.fit(baseline_train, train_labels)\n",
        "    baseline_predictions = classifier.predict_proba(baseline_inductive)\n",
        "\n",
        "    classifier.fit(train_emb_m, train_labels)\n",
        "    predictions = classifier.predict_proba(inductive_emb_m)\n",
        "    \n",
        "else:\n",
        "  classifier.fit(train_emb, train_labels)\n",
        "  predictions = classifier.predict_proba(inductive_emb)\n"
      ]
    },
    {
      "cell_type": "markdown",
      "metadata": {
        "id": "cB19y-X4Hpsb"
      },
      "source": [
        "### 5. Evaluation"
      ]
    },
    {
      "cell_type": "markdown",
      "metadata": {
        "id": "5U_rOHXAHpsb"
      },
      "source": [
        "Given the highly imbalanced nature of our dataset, we evaluate the results based on precision-recall curves. "
      ]
    },
    {
      "cell_type": "code",
      "execution_count": 8,
      "metadata": {
        "id": "Btgrm2pvHpsc",
        "scrolled": false,
        "colab": {
          "base_uri": "https://localhost:8080/",
          "height": 314
        },
        "outputId": "3c8a9ef8-3d9a-4fc5-c6f0-f6de1e841ad3"
      },
      "outputs": [
        {
          "output_type": "stream",
          "name": "stdout",
          "text": [
            "Average precision-recall score XGBoost: 0.8915763374\n",
            "Average precision-recall score XGBoost: 0.8420009173\n"
          ]
        },
        {
          "output_type": "display_data",
          "data": {
            "text/plain": [
              "<Figure size 432x288 with 1 Axes>"
            ],
            "image/png": "[encoded data removed]"
          },
          "metadata": {
            "needs_background": "light"
          }
        }
      ],
      "source": [
        "from inductiveGRL.evaluation import Evaluation\n",
        "inductive_labels = data_full.loc[inductive_emb.index]['fraud']\n",
        "\n",
        "graphsage_evaluation = Evaluation(predictions, inductive_labels, \"GraphSAGE+features\") \n",
        "graphsage_evaluation.pr_curve()\n",
        "\n",
        "if add_additional_data is True:\n",
        "    baseline_evaluation = Evaluation(baseline_predictions, inductive_labels, \"Baseline\")\n",
        "    baseline_evaluation.pr_curve()"
      ]
    },
    {
      "cell_type": "markdown",
      "metadata": {
        "id": "NibeaXUxB0H-"
      },
      "source": [
        "# 6. Time step testing\n",
        "\n",
        "In this section I am testing to see the distribution of fraud found for each time step. Does the model identify fraud in an uniform distribution?\n"
      ]
    },
    {
      "cell_type": "code",
      "execution_count": 9,
      "metadata": {
        "id": "RNPqic76NyLB",
        "colab": {
          "base_uri": "https://localhost:8080/",
          "height": 645
        },
        "outputId": "7cf3193a-dd6e-4339-be8a-062b270b29f6"
      },
      "outputs": [
        {
          "output_type": "stream",
          "name": "stdout",
          "text": [
            "Baseline:\n",
            "Precision: 0.9146757679180887\n",
            "Recall: 0.67\n",
            "GraphSAGE:\n",
            "Precision: 0.9442508710801394\n",
            "Recall: 0.6775\n"
          ]
        },
        {
          "output_type": "display_data",
          "data": {
            "text/plain": [
              "<Figure size 432x288 with 2 Axes>"
            ],
            "image/png": "[encoded data removed]"
          },
          "metadata": {
            "needs_background": "light"
          }
        },
        {
          "output_type": "display_data",
          "data": {
            "text/plain": [
              "<Figure size 432x288 with 2 Axes>"
            ],
            "image/png": "[encoded data removed]"
          },
          "metadata": {
            "needs_background": "light"
          }
        }
      ],
      "source": [
        "from sklearn.metrics import ConfusionMatrixDisplay\n",
        "from sklearn.metrics import precision_score\n",
        "from sklearn.metrics import recall_score\n",
        "\n",
        "print(\"Baseline:\")\n",
        "ConfusionMatrixDisplay.from_predictions(inductive_labels, np.argmax(baseline_predictions, axis=1))\n",
        "print(\"Precision:\", precision_score(inductive_labels, np.argmax(baseline_predictions, axis=1)))\n",
        "print(\"Recall:\", recall_score(inductive_labels, np.argmax(baseline_predictions, axis=1)))\n",
        "\n",
        "print(\"GraphSAGE:\")\n",
        "ConfusionMatrixDisplay.from_predictions(inductive_labels, np.argmax(predictions, axis=1))\n",
        "print(\"Precision:\", precision_score(inductive_labels, np.argmax(predictions, axis=1)))\n",
        "print(\"Recall:\", recall_score(inductive_labels, np.argmax(predictions, axis=1)))"
      ]
    },
    {
      "cell_type": "code",
      "execution_count": 10,
      "metadata": {
        "id": "Qlslssw7vIpt",
        "colab": {
          "base_uri": "https://localhost:8080/"
        },
        "outputId": "a4b384a9-50f2-4b36-ffce-7447dbec2e12"
      },
      "outputs": [
        {
          "output_type": "stream",
          "name": "stdout",
          "text": [
            "Baseline count 129 : 0\n",
            "GraphSAGE count 129 : 0\n",
            "Baseline count 130 : 0\n",
            "GraphSAGE count 130 : 0\n",
            "Baseline count 131 : 0\n",
            "GraphSAGE count 131 : 0\n",
            "Baseline count 132 : 0\n",
            "GraphSAGE count 132 : 0\n",
            "Baseline count 133 : 0\n",
            "GraphSAGE count 133 : 0\n",
            "Baseline count 134 : 0\n",
            "GraphSAGE count 134 : 0\n",
            "Baseline count 135 : 0\n",
            "GraphSAGE count 135 : 0\n",
            "Baseline count 136 : 0\n",
            "GraphSAGE count 136 : 0\n"
          ]
        }
      ],
      "source": [
        "#print(predictions)\n",
        "#print(inductive_labels)\n",
        "graph_predictions = np.argmax(predictions, axis=1)\n",
        "base_preds = np.argmax(baseline_predictions, axis=1)\n",
        "\n",
        "\n",
        "# get a list of baseline true positives and of graph true positives\n",
        "baseline_tp = []\n",
        "baseline_time = []\n",
        "graph_tp = []\n",
        "graph_time = []\n",
        "i=0\n",
        "for index, value in inductive_labels.items():\n",
        "  # baseline true positives\n",
        "  if (value == base_preds[i]) and (value == 1):\n",
        "    baseline_tp.append(index)\n",
        "    baseline_time.append(inductive_graph_data.loc[index, \"step\"])\n",
        "  # graph true positives\n",
        "  if value == graph_predictions[i] and value == 1:\n",
        "    graph_tp.append(index)\n",
        "    graph_time.append(inductive_graph_data.loc[index, \"step\"])\n",
        "  i = i+1 \n",
        "\n",
        "\n",
        "for i in range(129,137):\n",
        "  print(\"Baseline count\", i, \":\", baseline_time.count(i))\n",
        "  print(\"GraphSAGE count\", i, \":\", graph_time.count(i))"
      ]
    },
    {
      "cell_type": "code",
      "execution_count": 11,
      "metadata": {
        "id": "ItF5aP9jKLcG",
        "colab": {
          "base_uri": "https://localhost:8080/",
          "height": 663
        },
        "outputId": "9724efd5-d4f1-42d9-d9d5-f2d7a2b5e8bb"
      },
      "outputs": [
        {
          "output_type": "stream",
          "name": "stdout",
          "text": [
            "Baseline\n",
            "Precision: 0.8707692307692307\n",
            "Recall: 0.7075\n",
            "\n",
            "GraphSAGE\n",
            "Precision: 0.8516483516483516\n",
            "Recall: 0.775\n"
          ]
        },
        {
          "output_type": "display_data",
          "data": {
            "text/plain": [
              "<Figure size 432x288 with 2 Axes>"
            ],
            "image/png": "[encoded data removed]"
          },
          "metadata": {
            "needs_background": "light"
          }
        },
        {
          "output_type": "display_data",
          "data": {
            "text/plain": [
              "<Figure size 432x288 with 2 Axes>"
            ],
            "image/png": "[encoded data removed]"
          },
          "metadata": {
            "needs_background": "light"
          }
        }
      ],
      "source": [
        "def classify_probabilities(prediction_probs, decision_boundary):\n",
        "  pred_c = []\n",
        "  for p in prediction_probs:\n",
        "    if p > decision_boundary:\n",
        "      pred_c.append(1)\n",
        "    else:\n",
        "      pred_c.append(0)\n",
        "  return pred_c\n",
        "\n",
        "print(\"Baseline\")\n",
        "baseline_pred_c = classify_probabilities(baseline_predictions[:, 1], 0.34)\n",
        "ConfusionMatrixDisplay.from_predictions(inductive_labels, baseline_pred_c)\n",
        "print(\"Precision:\", precision_score(inductive_labels, baseline_pred_c))\n",
        "print(\"Recall:\", recall_score(inductive_labels, baseline_pred_c))\n",
        "\n",
        "print()\n",
        "print(\"GraphSAGE\")\n",
        "pred_c = classify_probabilities(predictions[:, 1], 0.29)\n",
        "ConfusionMatrixDisplay.from_predictions(inductive_labels, pred_c)\n",
        "print(\"Precision:\", precision_score(inductive_labels, pred_c))\n",
        "print(\"Recall:\", recall_score(inductive_labels, pred_c))"
      ]
    }
  ],
  "metadata": {
    "colab": {
      "provenance": []
    },
    "kernelspec": {
      "display_name": "Python 3",
      "name": "python3"
    },
    "language_info": {
      "name": "python"
    }
  },
  "nbformat": 4,
  "nbformat_minor": 0
}