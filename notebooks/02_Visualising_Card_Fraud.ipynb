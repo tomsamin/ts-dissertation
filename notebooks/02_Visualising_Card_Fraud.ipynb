{
  "nbformat": 4,
  "nbformat_minor": 0,
  "metadata": {
    "colab": {
      "provenance": []
    },
    "kernelspec": {
      "name": "python3",
      "display_name": "Python 3"
    },
    "language_info": {
      "name": "python"
    }
  },
  "cells": [
    {
      "cell_type": "code",
      "execution_count": null,
      "metadata": {
        "id": "frWq69OtE-N9"
      },
      "outputs": [],
      "source": [
        "import numpy as np\n",
        "import pandas as pd\n",
        "\n",
        "import torch\n",
        "import torch.nn as nn\n",
        "import torch.nn.functional as F\n",
        "\n",
        "!pip install stellargraph\n",
        "import stellargraph as sg\n",
        "\n",
        "!pip install networkx\n",
        "import networkx as nx\n",
        "\n",
        "!pip install scikit-plot\n",
        "\n",
        "import sys\n",
        "sys.path.append('/content/drive/MyDrive')\n",
        "\n",
        "from inductiveGRL.graphconstruction import GraphConstruction"
      ]
    },
    {
      "cell_type": "code",
      "source": [
        "### Set the number of nodes to subset for visualisation\n",
        "\n",
        "train_nodes_n = 900\n",
        "test_nodes_n = 303"
      ],
      "metadata": {
        "id": "hgfIHPLvhTR1"
      },
      "execution_count": 100,
      "outputs": []
    },
    {
      "cell_type": "code",
      "source": [
        "data_full = pd.read_csv('/content/drive/MyDrive/AI Dissertation /data/bs140513_032310.csv')\n",
        "data_full[\"index\"] = data_full.index\n",
        "# add a column to data for customer id and merchant id with prefix 1: C and 2: M\n",
        "data_full['merchant_id'] = data_full['merchant'].str.replace(\"M\", '2').str.replace(\"'\", \"\")\n",
        "data_full['customer_id'] = data_full['customer'].str.replace(\"C\", '1').str.replace(\"'\", \"\")\n",
        "data_full['category'] = data_full['category'].str.replace(\"'\", \"\")\n",
        "data_full['age'] = data_full['age'].str.replace(\"'\", \"\")\n",
        "\n",
        "category_oh = pd.get_dummies(data_full['category'], prefix='category')\n",
        "data_full = data_full.join(category_oh)\n",
        "\n",
        "age_oh = pd.get_dummies(data_full['age'], prefix='age')\n",
        "data_full = data_full.join(age_oh)\n",
        "\n",
        "def split_data(data, split_start, split_end):\n",
        "    return data.loc[(data['step'] >= split_start) & (data['step'] <= split_end)]\n",
        "\n",
        "data_train = split_data(data_full, 0, 0)\n",
        "data_test = split_data(data_full, 1, 1)\n",
        "\n",
        "def get_merchant(data, merchant_id):\n",
        "  return data.loc[(data['merchant_id'] == merchant_id)]\n",
        "\n",
        "data_train_m = get_merchant(data=data_train, merchant_id='2348934600')\n",
        "data_test_m = get_merchant(data=data_train, merchant_id='2348934600')\n"
      ],
      "metadata": {
        "id": "u3FHaxrBFSeW"
      },
      "execution_count": 101,
      "outputs": []
    },
    {
      "cell_type": "code",
      "source": [
        "def data_to_graph(dataset):\n",
        "  ### nodes\n",
        "  #node_customers = pd.DataFrame([1]*len(dataset.customer_id.unique())).set_index(dataset.customer_id.unique())\n",
        "  node_customers = dataset[[\"customer_id\", \"age_0\", \"age_1\", \"age_2\", \"age_3\", \"age_4\", \"age_5\", \"age_6\", \"age_U\"]].drop_duplicates(subset=[\"customer_id\"]).set_index(\"customer_id\")\n",
        "  #print(node_customers.loc[\"1369566106\"])\n",
        "  node_merchants = pd.DataFrame([1]*len(dataset.merchant_id.unique())).set_index(dataset.merchant_id.unique())\n",
        "\n",
        "  # transaction node data\n",
        "  node_txns = dataset[[\"amount\", \"category_es_home\", \"category_es_hotelservices\", \"category_es_hyper\", \"category_es_leisure\", \n",
        "                       \"category_es_otherservices\", \"category_es_sportsandtoys\", \"category_es_tech\", \"category_es_transportation\", \n",
        "                       \"category_es_travel\", \"category_es_wellnessandbeauty\", \"index\"]]\n",
        "\n",
        "  ### edges\n",
        "  # customer to transaction edges\n",
        "  edge_customer = dataset[[\"customer_id\", \"index\"]]\n",
        "\n",
        "  # transaction to merchant edges\n",
        "  edge_merchant = dataset[[\"index\", \"merchant_id\"]]\n",
        "\n",
        "  nodes = {\"customer\":dataset.customer_id, \"merchant\":dataset.merchant_id, \"transaction\":dataset.index}\n",
        "  edges = [zip(edge_customer.customer_id, edge_customer.index),zip(edge_merchant.index, edge_merchant.merchant_id)]\n",
        "  features = {\"transaction\": node_txns, 'customer': node_customers, 'merchant': node_merchants}\n",
        "\n",
        "  graph = GraphConstruction(nodes, edges, features)\n",
        "  S = graph.get_stellargraph()\n",
        "  return S, edges\n",
        "\n",
        "#print(inductive_graph_data)\n"
      ],
      "metadata": {
        "id": "kWcJnb2FFTlD"
      },
      "execution_count": 102,
      "outputs": []
    },
    {
      "cell_type": "code",
      "source": [
        "S_train, e_train = data_to_graph(data_train.head(train_nodes_n))\n",
        "print(S_train.info())\n",
        "nx_train = S_train.to_networkx()\n",
        "nx.draw(nx_train, with_labels=False, font_weight='bold')"
      ],
      "metadata": {
        "colab": {
          "base_uri": "https://localhost:8080/",
          "height": 684
        },
        "id": "t6D_IiZOF0Fw",
        "outputId": "aed05848-86de-497c-abb6-8be6c781b7a2"
      },
      "execution_count": 103,
      "outputs": [
        {
          "output_type": "stream",
          "name": "stdout",
          "text": [
            "StellarGraph: Undirected multigraph\n",
            " Nodes: 1830, Edges: 1800\n",
            "\n",
            " Node types:\n",
            "  transaction: [900]\n",
            "    Features: float32 vector, length 12\n",
            "    Edge types: transaction-default->customer, transaction-default->merchant\n",
            "  customer: [899]\n",
            "    Features: float32 vector, length 8\n",
            "    Edge types: customer-default->transaction\n",
            "  merchant: [31]\n",
            "    Features: float32 vector, length 1\n",
            "    Edge types: merchant-default->transaction\n",
            "\n",
            " Edge types:\n",
            "    merchant-default->transaction: [900]\n",
            "        Weights: all 1 (default)\n",
            "        Features: none\n",
            "    customer-default->transaction: [900]\n",
            "        Weights: all 1 (default)\n",
            "        Features: none\n"
          ]
        },
        {
          "output_type": "display_data",
          "data": {
            "text/plain": [
              "<Figure size 432x288 with 1 Axes>"
            ],
            "image/png": "[encoded data removed]"
          },
          "metadata": {}
        }
      ]
    },
    {
      "cell_type": "code",
      "source": [
        "pd.options.mode.chained_assignment = None\n",
        "\n",
        "inductive_graph_data = pd.concat((data_train.head(train_nodes_n), data_test.head(test_nodes_n)))\n",
        "\n",
        "S_ind, e_ind = data_to_graph(inductive_graph_data)\n",
        "print(S_ind.info())\n",
        "nx_ind = S_ind.to_networkx()\n",
        "nx.draw(nx_ind, with_labels=False, font_weight='bold')\n"
      ],
      "metadata": {
        "colab": {
          "base_uri": "https://localhost:8080/",
          "height": 684
        },
        "id": "xBvVJ7-aFgJz",
        "outputId": "3e1ab464-551a-46df-d5e8-2a522063ca52"
      },
      "execution_count": 104,
      "outputs": [
        {
          "output_type": "stream",
          "name": "stdout",
          "text": [
            "StellarGraph: Undirected multigraph\n",
            " Nodes: 2344, Edges: 2406\n",
            "\n",
            " Node types:\n",
            "  transaction: [1203]\n",
            "    Features: float32 vector, length 12\n",
            "    Edge types: transaction-default->customer, transaction-default->merchant\n",
            "  customer: [1106]\n",
            "    Features: float32 vector, length 8\n",
            "    Edge types: customer-default->transaction\n",
            "  merchant: [35]\n",
            "    Features: float32 vector, length 1\n",
            "    Edge types: merchant-default->transaction\n",
            "\n",
            " Edge types:\n",
            "    merchant-default->transaction: [1203]\n",
            "        Weights: all 1 (default)\n",
            "        Features: none\n",
            "    customer-default->transaction: [1203]\n",
            "        Weights: all 1 (default)\n",
            "        Features: none\n"
          ]
        },
        {
          "output_type": "display_data",
          "data": {
            "text/plain": [
              "<Figure size 432x288 with 1 Axes>"
            ],
            "image/png": "[encoded data removed]"
          },
          "metadata": {}
        }
      ]
    }
  ]
}